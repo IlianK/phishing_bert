{
 "cells": [
  {
   "cell_type": "markdown",
   "metadata": {},
   "source": [
    "### Imports"
   ]
  },
  {
   "cell_type": "code",
   "execution_count": 1,
   "metadata": {},
   "outputs": [],
   "source": [
    "import os\n",
    "import pandas as pd\n",
    "import torch\n",
    "import json\n",
    "import re\n",
    "from transformers import AutoTokenizer, AutoModelForSequenceClassification\n",
    "import lime.lime_text"
   ]
  },
  {
   "cell_type": "markdown",
   "metadata": {},
   "source": [
    "### Paths"
   ]
  },
  {
   "cell_type": "code",
   "execution_count": 2,
   "metadata": {},
   "outputs": [
    {
     "name": "stdout",
     "output_type": "stream",
     "text": [
      "Project Root: c:\\Users\\ilian\\Documents\\Projects\\git_projects\\university\\phishing_detection\n"
     ]
    }
   ],
   "source": [
    "import sys, os\n",
    "sys.path.append(os.path.abspath('../../src'))\n",
    "from helper_functions.path_resolver import DynamicPathResolver\n",
    "\n",
    "dpr = DynamicPathResolver(marker=\"README.md\")\n",
    "paths = dpr.structure"
   ]
  },
  {
   "cell_type": "code",
   "execution_count": 6,
   "metadata": {},
   "outputs": [],
   "source": [
    "models_folder = dpr.get_folder_path_from_namespace(paths.models.bert)\n",
    "emails_path = paths.app.static.csv.emails_csv"
   ]
  },
  {
   "cell_type": "markdown",
   "metadata": {},
   "source": [
    "### Functions"
   ]
  },
  {
   "cell_type": "code",
   "execution_count": 7,
   "metadata": {},
   "outputs": [],
   "source": [
    "def process_text_columns(df):\n",
    "    df['subject'] = df['subject'].fillna('[NO_SUBJECT]').astype(str)\n",
    "    df['body'] = df['body'].fillna('[NO_BODY]').astype(str)\n",
    "    return df\n",
    "\n",
    "def clean_text(text):\n",
    "    text = re.sub(r'\\s+', ' ', text).strip()\n",
    "    substitutions = [\n",
    "        (r'https?://\\S+|www\\.\\S+', '[URL]'),\n",
    "        (r'\\b[A-Za-z0-9._%+-]+@[A-Za-z0-9.-]+\\.[A-Za-z]{2,}\\b', '[EMAIL]'),\n",
    "        (r'-{2,}', ' '),\n",
    "        (r'!{2,}', '!'),\n",
    "        (r'\\?{2,}', '?'),\n",
    "        (r'[_+*]{2,}', ' '),\n",
    "        (r'[=+]{3,}', ' '),\n",
    "        (r'[~]{3,}', ' '),\n",
    "        (r'[#]{3,}', ' '),\n",
    "        (r'[<]{3,}', ' '),\n",
    "        (r'[>]{3,}', ' ')\n",
    "    ]\n",
    "    for pattern, repl in substitutions:\n",
    "        text = re.sub(pattern, repl, text)\n",
    "    return text.strip()\n",
    "\n",
    "def combine_text_fields(df):\n",
    "    df['subject'] = df['subject'].apply(clean_text)\n",
    "    df['body'] = df['body'].apply(clean_text)\n",
    "    df['text'] = df['subject'] + \" [SEP] \" + df['body']\n",
    "    return df\n",
    "\n",
    "def prepare_bert_data(df):\n",
    "    df = process_text_columns(df)\n",
    "    df = combine_text_fields(df)\n",
    "    return df  # Keep full columns or filter as needed"
   ]
  },
  {
   "cell_type": "markdown",
   "metadata": {},
   "source": [
    "### Load data"
   ]
  },
  {
   "cell_type": "code",
   "execution_count": 8,
   "metadata": {},
   "outputs": [],
   "source": [
    "emails_df = pd.read_csv(emails_path)\n",
    "emails_df = prepare_bert_data(emails_df) "
   ]
  },
  {
   "cell_type": "markdown",
   "metadata": {},
   "source": [
    "### Load model"
   ]
  },
  {
   "cell_type": "code",
   "execution_count": 9,
   "metadata": {},
   "outputs": [],
   "source": [
    "models_checkpoint = os.path.join(models_folder, 'checkpoint-175')"
   ]
  },
  {
   "cell_type": "code",
   "execution_count": 10,
   "metadata": {},
   "outputs": [],
   "source": [
    "model = AutoModelForSequenceClassification.from_pretrained(models_checkpoint)\n",
    "tokenizer = AutoTokenizer.from_pretrained(models_checkpoint)\n",
    "model.eval()\n",
    "\n",
    "def lime_predict(texts):\n",
    "    inputs = tokenizer(\n",
    "        texts,\n",
    "        return_tensors=\"pt\",\n",
    "        truncation=True,\n",
    "        padding=True,\n",
    "        max_length=512\n",
    "    )\n",
    "    with torch.no_grad():\n",
    "        probs = torch.nn.functional.softmax(model(**inputs).logits, dim=-1)\n",
    "    return probs.numpy()\n",
    "\n",
    "explainer = lime.lime_text.LimeTextExplainer(class_names=[\"Legit\", \"Phishing\"])"
   ]
  },
  {
   "cell_type": "markdown",
   "metadata": {},
   "source": [
    "### Explanations"
   ]
  },
  {
   "cell_type": "code",
   "execution_count": 11,
   "metadata": {},
   "outputs": [],
   "source": [
    "output_data = []\n",
    "\n",
    "for idx, row in emails_df.iterrows():\n",
    "    text = row[\"text\"]\n",
    "    \n",
    "    inputs = tokenizer(\n",
    "        text,\n",
    "        return_tensors=\"pt\",\n",
    "        truncation=True,\n",
    "        padding=True,\n",
    "        max_length=512\n",
    "    )\n",
    "    with torch.no_grad():\n",
    "        logits = model(**inputs).logits\n",
    "        probs = torch.nn.functional.softmax(logits, dim=-1)\n",
    "        confidence, predicted_idx = torch.max(probs, dim=-1)\n",
    "    \n",
    "    pred_label = \"Phishing\" if predicted_idx.item() == 1 else \"Legit\"\n",
    "    \n",
    "    exp = explainer.explain_instance(text, lime_predict, num_features=10)\n",
    "    lime_html = exp.as_html()\n",
    "    \n",
    "    # Append \n",
    "    output_data.append({\n",
    "        \"index\": idx,\n",
    "        \"original_subject\": row.get(\"subject\", \"\"),\n",
    "        \"original_body\": row.get(\"body\", \"\"),\n",
    "        \"label\": int(row[\"label\"]) if \"label\" in row else None,\n",
    "        \"pred_label\": pred_label,\n",
    "        \"confidence\": float(confidence.item()),\n",
    "        \"lime_html\": lime_html\n",
    "    })"
   ]
  },
  {
   "cell_type": "markdown",
   "metadata": {},
   "source": [
    "### Save"
   ]
  },
  {
   "cell_type": "code",
   "execution_count": 12,
   "metadata": {},
   "outputs": [],
   "source": [
    "static_dir = dpr.get_folder_path_from_namespace(paths.app.static.json)"
   ]
  },
  {
   "cell_type": "code",
   "execution_count": 13,
   "metadata": {},
   "outputs": [
    {
     "name": "stdout",
     "output_type": "stream",
     "text": [
      "Saved in lime_explanations.json\n"
     ]
    }
   ],
   "source": [
    "output_path = os.path.join('lime_explanations.json')\n",
    "with open(output_path, \"w\", encoding=\"utf-8\") as f:\n",
    "    json.dump(output_data, f, ensure_ascii=False, indent=2)\n",
    "\n",
    "print(f\"Saved in {output_path}\")"
   ]
  }
 ],
 "metadata": {
  "kernelspec": {
   "display_name": "venv",
   "language": "python",
   "name": "python3"
  },
  "language_info": {
   "codemirror_mode": {
    "name": "ipython",
    "version": 3
   },
   "file_extension": ".py",
   "mimetype": "text/x-python",
   "name": "python",
   "nbconvert_exporter": "python",
   "pygments_lexer": "ipython3",
   "version": "3.12.8"
  }
 },
 "nbformat": 4,
 "nbformat_minor": 2
}
