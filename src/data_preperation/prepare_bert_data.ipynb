{
 "cells": [
  {
   "cell_type": "markdown",
   "metadata": {},
   "source": [
    "# Preperation"
   ]
  },
  {
   "cell_type": "markdown",
   "metadata": {},
   "source": [
    "### Imports"
   ]
  },
  {
   "cell_type": "code",
   "execution_count": 31,
   "metadata": {},
   "outputs": [],
   "source": [
    "import pandas as pd\n",
    "import textstat\n",
    "import numpy as np\n",
    "import re\n",
    "import seaborn as sns\n",
    "import matplotlib.pyplot as plt"
   ]
  },
  {
   "cell_type": "markdown",
   "metadata": {},
   "source": [
    "### Paths"
   ]
  },
  {
   "cell_type": "code",
   "execution_count": 32,
   "metadata": {},
   "outputs": [
    {
     "name": "stdout",
     "output_type": "stream",
     "text": [
      "Project Root: c:\\Users\\ilian\\Documents\\Projects\\git_projects\\university\\phishing_detection\n"
     ]
    }
   ],
   "source": [
    "import sys, os\n",
    "sys.path.append(os.path.abspath('../../src'))\n",
    "from helper_functions.path_resolver import DynamicPathResolver\n",
    "\n",
    "dpr = DynamicPathResolver(marker=\"README.md\")\n",
    "paths = dpr.structure"
   ]
  },
  {
   "cell_type": "code",
   "execution_count": 33,
   "metadata": {},
   "outputs": [],
   "source": [
    "train_raw = paths.data.raw.data_mail.train_raw_balanced_csv\n",
    "test_raw = paths.data.raw.data_mail.test_raw_de_csv\n",
    "\n",
    "train_preprocessed = paths.data.preprocessed.data_mail.train_processed_balanced_csv\n",
    "test_preprocessed = paths.data.preprocessed.data_mail.test_processed_de_csv\n",
    "\n",
    "models_folder = dpr.get_folder_path_from_namespace(paths.models.bert)\n",
    "output_dir = dpr.get_folder_path_from_namespace(paths.models.bert.results)\n",
    "\n",
    "os.makedirs(models_folder, exist_ok=True)\n",
    "os.makedirs(output_dir, exist_ok=True)"
   ]
  },
  {
   "cell_type": "markdown",
   "metadata": {},
   "source": [
    "### Functions"
   ]
  },
  {
   "cell_type": "code",
   "execution_count": 34,
   "metadata": {},
   "outputs": [],
   "source": [
    "def read_dataset(file_path):\n",
    "    return pd.read_csv(file_path)\n",
    "\n",
    "def process_text_columns(df):\n",
    "    df['subject'] = df['subject'].fillna('[NO_SUBJECT]').astype(str)\n",
    "    df['body'] = df['body'].fillna('[NO_BODY]').astype(str)\n",
    "    return df\n",
    "\n",
    "\n",
    "def clean_text(text):\n",
    "    text = re.sub(r'\\s+', ' ', text).strip()\n",
    "    substitutions = [\n",
    "        (r'https?://\\S+|www\\.\\S+', '[URL]'),\n",
    "        (r'\\b[A-Za-z0-9._%+-]+@[A-Za-z0-9.-]+\\.[A-Za-z]{2,}\\b', '[EMAIL]'),\n",
    "        (r'-{2,}', ' '),\n",
    "        (r'!{2,}', '!'),\n",
    "        (r'\\?{2,}', '?'),\n",
    "        (r'[_+*]{2,}', ' '),\n",
    "        (r'[=+]{3,}', ' '),\n",
    "        (r'[~]{3,}', ' '),\n",
    "        (r'[#]{3,}', ' '),\n",
    "        (r'[<]{3,}', ' '),\n",
    "        (r'[>]{3,}', ' ')\n",
    "    ]\n",
    "        \n",
    "    for pattern, repl in substitutions:\n",
    "        text = re.sub(pattern, repl, text)\n",
    "    \n",
    "    return text.strip()\n",
    "\n",
    "\n",
    "def combine_text_fields(df):\n",
    "    df['subject'] = df['subject'].apply(clean_text)\n",
    "    df['body'] = df['body'].apply(clean_text)\n",
    "    df['text'] = df['subject'] + \" [SEP] \" + df['body']\n",
    "    return df\n",
    "\n",
    "\n",
    "def prepare_bert_data(df):\n",
    "    df = process_text_columns(df)\n",
    "    df = combine_text_fields(df)\n",
    "    return df[['text', 'label']]"
   ]
  },
  {
   "cell_type": "code",
   "execution_count": 35,
   "metadata": {},
   "outputs": [],
   "source": [
    "def calculate_reduction(original, processed):\n",
    "    original_length = len(original)\n",
    "    processed_length = len(processed)\n",
    "    if original_length == 0:\n",
    "        return 0\n",
    "    reduction_percentage = (original_length - processed_length) / original_length * 100\n",
    "    return reduction_percentage\n",
    "\n",
    "def sample_preprocessed_data(input_file, n=1):\n",
    "    pd.set_option('display.max_colwidth', None)\n",
    "    \n",
    "    df = read_dataset(input_file)\n",
    "    df_sample = df.sample(n).copy()\n",
    "    \n",
    "    # Original\n",
    "    df_sample['full_text_original'] = df_sample['subject'].astype(str) + \" \" + df_sample['body'].astype(str)\n",
    "    df_sample['word_count_original'] = df_sample['full_text_original'].apply(lambda x: len(x.split()))\n",
    "    df_sample['char_count_original'] = df_sample['full_text_original'].apply(lambda x: len(x))\n",
    "    \n",
    "    print(\"Original Data:\")\n",
    "    display(df_sample[['subject', 'body', 'label', 'word_count_original', 'char_count_original']])\n",
    "    \n",
    "    # Processed\n",
    "    df_processed = prepare_bert_data(df_sample).copy()\n",
    "    df_processed['word_count_processed'] = df_processed['text'].apply(lambda x: len(x.split()))\n",
    "    df_processed['char_count_processed'] = df_processed['text'].apply(lambda x: len(x))\n",
    "    \n",
    "    # Reduction in percentage\n",
    "    df_processed['char_reduction_%'] = df_sample.apply(\n",
    "        lambda row: calculate_reduction(row['full_text_original'], prepare_bert_data(pd.DataFrame([row]))['text'].iloc[0]),\n",
    "        axis=1\n",
    "    )\n",
    "    \n",
    "    print(\"Processed Data:\")\n",
    "    display(df_processed[['text', 'label', 'word_count_processed', 'char_count_processed', 'char_reduction_%']])\n"
   ]
  },
  {
   "cell_type": "code",
   "execution_count": 36,
   "metadata": {},
   "outputs": [],
   "source": [
    "def prepare_and_save_full_data(input_file, output_file):\n",
    "    # Load data\n",
    "    df = read_dataset(input_file)\n",
    "    \n",
    "    # Original\n",
    "    df['full_text_original'] = df['subject'].astype(str) + \" \" + df['body'].astype(str)\n",
    "    df['char_count_original'] = df['full_text_original'].apply(lambda x: len(x))\n",
    "    \n",
    "    # Process \n",
    "    df_processed = prepare_bert_data(df).copy()\n",
    "    df_processed['char_count_processed'] = df_processed['text'].apply(lambda x: len(x))\n",
    "    \n",
    "    # Reduction\n",
    "    total_orig_chars = df['char_count_original'].sum()\n",
    "    total_proc_chars = df_processed['char_count_processed'].sum()\n",
    "    overall_reduction = (total_orig_chars - total_proc_chars) / total_orig_chars * 100 if total_orig_chars > 0 else 0\n",
    "    \n",
    "    # Avg. reduction\n",
    "    df['reduction_%'] = df.apply(\n",
    "        lambda row: calculate_reduction(\n",
    "            row['full_text_original'], \n",
    "            prepare_bert_data(pd.DataFrame([row]))['text'].iloc[0]\n",
    "        ),\n",
    "        axis=1\n",
    "    )\n",
    "    avg_reduction = df['reduction_%'].mean()\n",
    "    \n",
    "    print(f\"Char Count (Original): {total_orig_chars}\")\n",
    "    print(f\"Char Count (Processed): {total_proc_chars}\")\n",
    "    print(f\"Char Reduction (Overall): {overall_reduction:.2f}%\")\n",
    "    print(f\"Char Reduction (Avg. per row): {avg_reduction:.2f}%\")\n",
    "    \n",
    "    # Save \n",
    "    df_processed.to_csv(output_file, index=False)\n",
    "    print(f\"Processed saved to {output_file}\")\n"
   ]
  },
  {
   "cell_type": "markdown",
   "metadata": {},
   "source": [
    "### Preprocess Test"
   ]
  },
  {
   "cell_type": "code",
   "execution_count": 37,
   "metadata": {},
   "outputs": [
    {
     "name": "stdout",
     "output_type": "stream",
     "text": [
      "Original Data:\n"
     ]
    },
    {
     "data": {
      "text/html": [
       "<div>\n",
       "<style scoped>\n",
       "    .dataframe tbody tr th:only-of-type {\n",
       "        vertical-align: middle;\n",
       "    }\n",
       "\n",
       "    .dataframe tbody tr th {\n",
       "        vertical-align: top;\n",
       "    }\n",
       "\n",
       "    .dataframe thead th {\n",
       "        text-align: right;\n",
       "    }\n",
       "</style>\n",
       "<table border=\"1\" class=\"dataframe\">\n",
       "  <thead>\n",
       "    <tr style=\"text-align: right;\">\n",
       "      <th></th>\n",
       "      <th>subject</th>\n",
       "      <th>body</th>\n",
       "      <th>label</th>\n",
       "      <th>word_count_original</th>\n",
       "      <th>char_count_original</th>\n",
       "    </tr>\n",
       "  </thead>\n",
       "  <tbody>\n",
       "    <tr>\n",
       "      <th>2062</th>\n",
       "      <td>[Ip-health] Economist Article</td>\n",
       "      <td>Drugs companies' patents are under attack. Will this really help the\\npoor?\\nJun 7th 2007 | NEW YORK\\n&gt;From The Economist print edition\\n\\nNOBODY could fault Thailand for want of ambition. At the recent Bio\\nconference, the largest annual gathering of the biotechnology industry,\\nit pitched itself hard as an emerging pharmaceutical power, with a\\ndazzling pavilion, visiting luminaries and free drinks for all.\\nInstead, the arguments with Thailand are over means, not ends.\\n\\nAt the end of last year the Thai government stunned the drugs industry\\nwhen it said it would overrule international patents for Efavirenz, an\\nanti-retroviral drug made by Merck, an American firm, and switch to a\\nThai-made generic copy at half the price. The country had signed the\\nAgreement on Trade-Related Aspects of Intellectual Property Rights\\n(TRIPS), which protects drugs patents. But that deal allows “compulsory\\nlicensing” only under special conditions—conditions that some\\ncomplained Thailand did not fulfil.\\n\\nIn the months since then, Thailand has said it would overrule the\\npatents on two more drugs, and it may soon add a further pair to the\\nlist. Moreover, other countries have followed its lead. Brazil declared\\nlast month that Merck was charging too much for Efavirenz. In recent\\nweeks the health ministers of India, Malaysia and Kenya have also\\nmuttered about pursuing compulsory licensing.\\n\\nAll this has sparked an almighty row. Many global-health advocates—\\nincluding Bill Clinton, whose foundation works on HIV—have applauded\\nthe trend, arguing that access to cheap generic drugs will greatly help\\nthe poor. Last month the World Health Organisation passed a resolution\\nsupporting compulsory licensing. America objected vociferously, but\\nother rich countries supported the motion.\\n\\nDrug executives are furious. Jon Pender of GlaxoSmithKline, a British\\ndrugs giant, insists that compulsory licensing was meant to be used\\nonly “as a last resort”. He argues that although compulsory licensing\\nis legal, TRIPS rules allow it only under limited circumstances, such\\nas national health emergencies, and only after lengthy efforts to\\nnegotiate prices with firms.\\n\\n“It is easy to see Big Pharma as a source of evil,” laments Daniel\\nVasella, chairman of Novartis, a Swiss drugs giant. His firm is\\ninvolved in a closely watched patent case in India that involves\\nGleevec, a cancer drug. Without innovation, he insists, future\\ngenerations will have fewer life-saving drugs—“which is equally\\nunethical as lack of access now.” And as Fred Hassan, the boss of\\nAmerica's Schering-Plough and head of the international pharmaceutical\\nlobby, warns, “without intellectual property there is no innovation.”\\n\\nAt first sight, this row reflects an old dilemma that pits today's\\npatients against tomorrow's. Compulsory licensing means that more Thais\\nwill get HIV drugs now, but it also means that drugs firms will be less\\nkeen to invest in drugs for Thailand in the future. Yet look closer and\\nthis is more than a fight between the poor-country sick and rich-world\\ndrugs companies. What makes it different is the role of two new actors:\\nmuscular middle-income countries and the rising generics industry.\\n\\nThis controversy has been sparked not by the poorest countries, which\\nalready get most of their drugs at low cost, but by middle-income ones.\\nThey have long used the threat of compulsory licensing to win\\ndiscounts, but by actually imposing such licensing they shift the\\nbalance of power. Rudolf Van Puymbroeck, a former senior lawyer at the\\nWorld Bank, likens compulsory licensing to other sorts of compulsory\\nstate purchases: “Firms are upset not because this is illegal, but\\nbecause they are in a very weak position to negotiate compensation\\nafter expropriation.”\\n\\n\\n\\nFollow the money\\nA perverse result of this trend is that middle-income countries are\\ngetting cheaper drugs, whereas quieter and perhaps more deserving\\nneighbours are not. Thailand's poor no doubt need treatment, but the\\nmilitary regime is wealthy enough to spend more on health care. Richard\\nEpstein of the University of Chicago law school has observed that there\\nis nothing to stop AIDS organisations or foreign governments from\\nbuying these products at a negotiated price and then giving them away\\nfree. “Charity can come from anywhere, not just drug companies,” he\\nnotes.\\n\\nEven experts devoted to the cause of helping the poor get access to\\ndrugs see the trend as worrying. “Brazil is not Rwanda, which cannot\\nafford to pay,” says Tadataka Yamada of the Gates Foundation, a giant\\ncharity. Victoria Hale, head of OneWorld Health, an innovative non-\\nprofit pharmaceutical firm, reckons that compulsory licensing could\\nprove “the last blow” that pushes the drug industry away from looking\\nfor cures for diseases of the poor world, which are already woefully\\nneglected.\\n\\nWhether or not the poor end up suffering in the long run from\\ndiminished innovation, a sure winner from the trend towards compulsory\\nlicensing is the generic-drugs industry. Under a provision of the TRIPS\\ntreaty, countries that invoke compulsory licensing but lack domestic\\nmanufacturing are allowed to import generic drugs from another\\ncountry.\\n\\nThis promises a gold rush for generics firms. Canada encourages\\ndomestic firms to produce copycat drugs for precisely this reason. But\\ntheir costs are so high that such exports cannot hope to compete with\\nthe cheaper pills produced by India, argues Amir Attaran of the\\nUniversity of Ottawa. Small wonder that executives at Cipla, one of the\\nIndian firms already making generic versions of HIV drugs, warmly\\napplaud the trend and welcome Brazil's support for compulsory\\nlicensing, which they say “helps protect the rights of citizens”.\\n\\nDoes the future therefore belong to compulsory licensing? If so, there\\nmay be trouble ahead for both pillmakers and punters. Dr Yamada fears\\nthat compulsory licensing could prove “lethal” for the industry. He\\nsuggests that drugs firms and middle-income countries ought instead to\\nuse a sliding scale, based on GDP per head, to determine prices. Bruce\\nLehman, a lawyer who worked on the TRIPS accord in the Clinton\\nadministration, thinks it is cynical for middle-income countries “to\\navoid paying their fair share of drug-discovery costs”. In doing so, he\\nfears, they risk provoking a backlash from Americans who will, in\\neffect, have to pay more as a result.\\n\\nBut things may not get that ugly, thanks to the growing influence of\\ninnovators in developing countries themselves. Even in India drugs\\npatents have their defenders. Ranbaxy is a local firm that made its\\nname by manufacturing knock-off drugs. But ask Ramesh Adige, a member\\nof its board, about the current trend and he is quick with his reply:\\n“We do not encourage compulsory licensing.” He explains that his firm\\nhas 1,100 researchers and invests 7% of its turnover in research and\\ndevelopment. It already has process patents, and within two years hopes\\nto have patents for novel drugs (for malaria, possibly). “We are very\\nsupportive of intellectual-property rights, as innovations must be\\ngiven their reward,” he says.\\n\\nThe reason Ranbaxy has gone from ignoring patents to defending them is\\nthat it now has inventions of its own that it wishes to protect. Even\\nYongyuth Yuthavong, Thailand's science and technology minister, seems\\nto acknowledge the risk his country is taking. “As a scientist myself,\\nI know the value of intellectual property,” he says. “In future, we\\nshould develop our own drugs industry.”\\n\\n\\n\\n\\n\\n\\n\\n___________________________________________________________\\n\\nTiscali Broadband only £9.99 a month for your first 3 months! http://www.tiscali.co.uk/products/broadband/\\n_______________________________________________\\nIp-health mailing list\\nIp-health@lists.essential.org\\nhttp://lists.essential.org/mailman/listinfo/ip-health\\n\\n</td>\n",
       "      <td>0</td>\n",
       "      <td>1209</td>\n",
       "      <td>7824</td>\n",
       "    </tr>\n",
       "  </tbody>\n",
       "</table>\n",
       "</div>"
      ],
      "text/plain": [
       "                            subject  \\\n",
       "2062  [Ip-health] Economist Article   \n",
       "\n",
       "                                                                                                                                                                                                                                                                                                                                                                                                                                                                                                                                                                                                                                                                                                                                                                                                                                                                                                                                                                                                                                                                                                                                                                                                                                                                                                                                                                                                                                                                                                                                                                                                                                                                                                                                                                                                                                                                                                                                                                                                                                                                                                                                                                                                                                                                                                                                                                                                                                                                                                                                                                                                                                                                                                                                                                                                                                                                                                                                                                                                                                                                                                                                                                                                                                                                                                                                                                                                                                                                                                                                                                                                                                                                                                                                                                                                                                                                                                                                                                                                                                                                                                                                                                                                                                                                                                                                                                                                                                                                                                                                                                                                                                                                                                                                                                                                                                                                                                                                                                                                                                                                                                                                                                                                                                                                                                                                                                                                                                                                                                                                                                                                                                                                                                                                                                                                                                                                                                                                                                                                                                                                                                                                                                                                                                                                                                                                                                                                                                                                                                                                                                                                                                                                                                                                                                                                                                                                                                                                                                                                                                                                                                                                                                                                                                                                                                                                                                                                                                                                                                                                                                                                                                                                                                                                                                                                                                                                                                                                                                                                                                                                                                                                                                                                                                                                          body  \\\n",
       "2062  Drugs companies' patents are under attack. Will this really help the\\npoor?\\nJun 7th 2007 | NEW YORK\\n>From The Economist print edition\\n\\nNOBODY could fault Thailand for want of ambition. At the recent Bio\\nconference, the largest annual gathering of the biotechnology industry,\\nit pitched itself hard as an emerging pharmaceutical power, with a\\ndazzling pavilion, visiting luminaries and free drinks for all.\\nInstead, the arguments with Thailand are over means, not ends.\\n\\nAt the end of last year the Thai government stunned the drugs industry\\nwhen it said it would overrule international patents for Efavirenz, an\\nanti-retroviral drug made by Merck, an American firm, and switch to a\\nThai-made generic copy at half the price. The country had signed the\\nAgreement on Trade-Related Aspects of Intellectual Property Rights\\n(TRIPS), which protects drugs patents. But that deal allows “compulsory\\nlicensing” only under special conditions—conditions that some\\ncomplained Thailand did not fulfil.\\n\\nIn the months since then, Thailand has said it would overrule the\\npatents on two more drugs, and it may soon add a further pair to the\\nlist. Moreover, other countries have followed its lead. Brazil declared\\nlast month that Merck was charging too much for Efavirenz. In recent\\nweeks the health ministers of India, Malaysia and Kenya have also\\nmuttered about pursuing compulsory licensing.\\n\\nAll this has sparked an almighty row. Many global-health advocates—\\nincluding Bill Clinton, whose foundation works on HIV—have applauded\\nthe trend, arguing that access to cheap generic drugs will greatly help\\nthe poor. Last month the World Health Organisation passed a resolution\\nsupporting compulsory licensing. America objected vociferously, but\\nother rich countries supported the motion.\\n\\nDrug executives are furious. Jon Pender of GlaxoSmithKline, a British\\ndrugs giant, insists that compulsory licensing was meant to be used\\nonly “as a last resort”. He argues that although compulsory licensing\\nis legal, TRIPS rules allow it only under limited circumstances, such\\nas national health emergencies, and only after lengthy efforts to\\nnegotiate prices with firms.\\n\\n“It is easy to see Big Pharma as a source of evil,” laments Daniel\\nVasella, chairman of Novartis, a Swiss drugs giant. His firm is\\ninvolved in a closely watched patent case in India that involves\\nGleevec, a cancer drug. Without innovation, he insists, future\\ngenerations will have fewer life-saving drugs—“which is equally\\nunethical as lack of access now.” And as Fred Hassan, the boss of\\nAmerica's Schering-Plough and head of the international pharmaceutical\\nlobby, warns, “without intellectual property there is no innovation.”\\n\\nAt first sight, this row reflects an old dilemma that pits today's\\npatients against tomorrow's. Compulsory licensing means that more Thais\\nwill get HIV drugs now, but it also means that drugs firms will be less\\nkeen to invest in drugs for Thailand in the future. Yet look closer and\\nthis is more than a fight between the poor-country sick and rich-world\\ndrugs companies. What makes it different is the role of two new actors:\\nmuscular middle-income countries and the rising generics industry.\\n\\nThis controversy has been sparked not by the poorest countries, which\\nalready get most of their drugs at low cost, but by middle-income ones.\\nThey have long used the threat of compulsory licensing to win\\ndiscounts, but by actually imposing such licensing they shift the\\nbalance of power. Rudolf Van Puymbroeck, a former senior lawyer at the\\nWorld Bank, likens compulsory licensing to other sorts of compulsory\\nstate purchases: “Firms are upset not because this is illegal, but\\nbecause they are in a very weak position to negotiate compensation\\nafter expropriation.”\\n\\n\\n\\nFollow the money\\nA perverse result of this trend is that middle-income countries are\\ngetting cheaper drugs, whereas quieter and perhaps more deserving\\nneighbours are not. Thailand's poor no doubt need treatment, but the\\nmilitary regime is wealthy enough to spend more on health care. Richard\\nEpstein of the University of Chicago law school has observed that there\\nis nothing to stop AIDS organisations or foreign governments from\\nbuying these products at a negotiated price and then giving them away\\nfree. “Charity can come from anywhere, not just drug companies,” he\\nnotes.\\n\\nEven experts devoted to the cause of helping the poor get access to\\ndrugs see the trend as worrying. “Brazil is not Rwanda, which cannot\\nafford to pay,” says Tadataka Yamada of the Gates Foundation, a giant\\ncharity. Victoria Hale, head of OneWorld Health, an innovative non-\\nprofit pharmaceutical firm, reckons that compulsory licensing could\\nprove “the last blow” that pushes the drug industry away from looking\\nfor cures for diseases of the poor world, which are already woefully\\nneglected.\\n\\nWhether or not the poor end up suffering in the long run from\\ndiminished innovation, a sure winner from the trend towards compulsory\\nlicensing is the generic-drugs industry. Under a provision of the TRIPS\\ntreaty, countries that invoke compulsory licensing but lack domestic\\nmanufacturing are allowed to import generic drugs from another\\ncountry.\\n\\nThis promises a gold rush for generics firms. Canada encourages\\ndomestic firms to produce copycat drugs for precisely this reason. But\\ntheir costs are so high that such exports cannot hope to compete with\\nthe cheaper pills produced by India, argues Amir Attaran of the\\nUniversity of Ottawa. Small wonder that executives at Cipla, one of the\\nIndian firms already making generic versions of HIV drugs, warmly\\napplaud the trend and welcome Brazil's support for compulsory\\nlicensing, which they say “helps protect the rights of citizens”.\\n\\nDoes the future therefore belong to compulsory licensing? If so, there\\nmay be trouble ahead for both pillmakers and punters. Dr Yamada fears\\nthat compulsory licensing could prove “lethal” for the industry. He\\nsuggests that drugs firms and middle-income countries ought instead to\\nuse a sliding scale, based on GDP per head, to determine prices. Bruce\\nLehman, a lawyer who worked on the TRIPS accord in the Clinton\\nadministration, thinks it is cynical for middle-income countries “to\\navoid paying their fair share of drug-discovery costs”. In doing so, he\\nfears, they risk provoking a backlash from Americans who will, in\\neffect, have to pay more as a result.\\n\\nBut things may not get that ugly, thanks to the growing influence of\\ninnovators in developing countries themselves. Even in India drugs\\npatents have their defenders. Ranbaxy is a local firm that made its\\nname by manufacturing knock-off drugs. But ask Ramesh Adige, a member\\nof its board, about the current trend and he is quick with his reply:\\n“We do not encourage compulsory licensing.” He explains that his firm\\nhas 1,100 researchers and invests 7% of its turnover in research and\\ndevelopment. It already has process patents, and within two years hopes\\nto have patents for novel drugs (for malaria, possibly). “We are very\\nsupportive of intellectual-property rights, as innovations must be\\ngiven their reward,” he says.\\n\\nThe reason Ranbaxy has gone from ignoring patents to defending them is\\nthat it now has inventions of its own that it wishes to protect. Even\\nYongyuth Yuthavong, Thailand's science and technology minister, seems\\nto acknowledge the risk his country is taking. “As a scientist myself,\\nI know the value of intellectual property,” he says. “In future, we\\nshould develop our own drugs industry.”\\n\\n\\n\\n\\n\\n\\n\\n___________________________________________________________\\n\\nTiscali Broadband only £9.99 a month for your first 3 months! http://www.tiscali.co.uk/products/broadband/\\n_______________________________________________\\nIp-health mailing list\\nIp-health@lists.essential.org\\nhttp://lists.essential.org/mailman/listinfo/ip-health\\n\\n   \n",
       "\n",
       "      label  word_count_original  char_count_original  \n",
       "2062      0                 1209                 7824  "
      ]
     },
     "metadata": {},
     "output_type": "display_data"
    },
    {
     "name": "stdout",
     "output_type": "stream",
     "text": [
      "Processed Data:\n"
     ]
    },
    {
     "data": {
      "text/html": [
       "<div>\n",
       "<style scoped>\n",
       "    .dataframe tbody tr th:only-of-type {\n",
       "        vertical-align: middle;\n",
       "    }\n",
       "\n",
       "    .dataframe tbody tr th {\n",
       "        vertical-align: top;\n",
       "    }\n",
       "\n",
       "    .dataframe thead th {\n",
       "        text-align: right;\n",
       "    }\n",
       "</style>\n",
       "<table border=\"1\" class=\"dataframe\">\n",
       "  <thead>\n",
       "    <tr style=\"text-align: right;\">\n",
       "      <th></th>\n",
       "      <th>text</th>\n",
       "      <th>label</th>\n",
       "      <th>word_count_processed</th>\n",
       "      <th>char_count_processed</th>\n",
       "      <th>char_reduction_%</th>\n",
       "    </tr>\n",
       "  </thead>\n",
       "  <tbody>\n",
       "    <tr>\n",
       "      <th>2062</th>\n",
       "      <td>[Ip-health] Economist Article [SEP] Drugs companies' patents are under attack. Will this really help the poor? Jun 7th 2007 | NEW YORK &gt;From The Economist print edition NOBODY could fault Thailand for want of ambition. At the recent Bio conference, the largest annual gathering of the biotechnology industry, it pitched itself hard as an emerging pharmaceutical power, with a dazzling pavilion, visiting luminaries and free drinks for all. Instead, the arguments with Thailand are over means, not ends. At the end of last year the Thai government stunned the drugs industry when it said it would overrule international patents for Efavirenz, an anti-retroviral drug made by Merck, an American firm, and switch to a Thai-made generic copy at half the price. The country had signed the Agreement on Trade-Related Aspects of Intellectual Property Rights (TRIPS), which protects drugs patents. But that deal allows “compulsory licensing” only under special conditions—conditions that some complained Thailand did not fulfil. In the months since then, Thailand has said it would overrule the patents on two more drugs, and it may soon add a further pair to the list. Moreover, other countries have followed its lead. Brazil declared last month that Merck was charging too much for Efavirenz. In recent weeks the health ministers of India, Malaysia and Kenya have also muttered about pursuing compulsory licensing. All this has sparked an almighty row. Many global-health advocates— including Bill Clinton, whose foundation works on HIV—have applauded the trend, arguing that access to cheap generic drugs will greatly help the poor. Last month the World Health Organisation passed a resolution supporting compulsory licensing. America objected vociferously, but other rich countries supported the motion. Drug executives are furious. Jon Pender of GlaxoSmithKline, a British drugs giant, insists that compulsory licensing was meant to be used only “as a last resort”. He argues that although compulsory licensing is legal, TRIPS rules allow it only under limited circumstances, such as national health emergencies, and only after lengthy efforts to negotiate prices with firms. “It is easy to see Big Pharma as a source of evil,” laments Daniel Vasella, chairman of Novartis, a Swiss drugs giant. His firm is involved in a closely watched patent case in India that involves Gleevec, a cancer drug. Without innovation, he insists, future generations will have fewer life-saving drugs—“which is equally unethical as lack of access now.” And as Fred Hassan, the boss of America's Schering-Plough and head of the international pharmaceutical lobby, warns, “without intellectual property there is no innovation.” At first sight, this row reflects an old dilemma that pits today's patients against tomorrow's. Compulsory licensing means that more Thais will get HIV drugs now, but it also means that drugs firms will be less keen to invest in drugs for Thailand in the future. Yet look closer and this is more than a fight between the poor-country sick and rich-world drugs companies. What makes it different is the role of two new actors: muscular middle-income countries and the rising generics industry. This controversy has been sparked not by the poorest countries, which already get most of their drugs at low cost, but by middle-income ones. They have long used the threat of compulsory licensing to win discounts, but by actually imposing such licensing they shift the balance of power. Rudolf Van Puymbroeck, a former senior lawyer at the World Bank, likens compulsory licensing to other sorts of compulsory state purchases: “Firms are upset not because this is illegal, but because they are in a very weak position to negotiate compensation after expropriation.” Follow the money A perverse result of this trend is that middle-income countries are getting cheaper drugs, whereas quieter and perhaps more deserving neighbours are not. Thailand's poor no doubt need treatment, but the military regime is wealthy enough to spend more on health care. Richard Epstein of the University of Chicago law school has observed that there is nothing to stop AIDS organisations or foreign governments from buying these products at a negotiated price and then giving them away free. “Charity can come from anywhere, not just drug companies,” he notes. Even experts devoted to the cause of helping the poor get access to drugs see the trend as worrying. “Brazil is not Rwanda, which cannot afford to pay,” says Tadataka Yamada of the Gates Foundation, a giant charity. Victoria Hale, head of OneWorld Health, an innovative non- profit pharmaceutical firm, reckons that compulsory licensing could prove “the last blow” that pushes the drug industry away from looking for cures for diseases of the poor world, which are already woefully neglected. Whether or not the poor end up suffering in the long run from diminished innovation, a sure winner from the trend towards compulsory licensing is the generic-drugs industry. Under a provision of the TRIPS treaty, countries that invoke compulsory licensing but lack domestic manufacturing are allowed to import generic drugs from another country. This promises a gold rush for generics firms. Canada encourages domestic firms to produce copycat drugs for precisely this reason. But their costs are so high that such exports cannot hope to compete with the cheaper pills produced by India, argues Amir Attaran of the University of Ottawa. Small wonder that executives at Cipla, one of the Indian firms already making generic versions of HIV drugs, warmly applaud the trend and welcome Brazil's support for compulsory licensing, which they say “helps protect the rights of citizens”. Does the future therefore belong to compulsory licensing? If so, there may be trouble ahead for both pillmakers and punters. Dr Yamada fears that compulsory licensing could prove “lethal” for the industry. He suggests that drugs firms and middle-income countries ought instead to use a sliding scale, based on GDP per head, to determine prices. Bruce Lehman, a lawyer who worked on the TRIPS accord in the Clinton administration, thinks it is cynical for middle-income countries “to avoid paying their fair share of drug-discovery costs”. In doing so, he fears, they risk provoking a backlash from Americans who will, in effect, have to pay more as a result. But things may not get that ugly, thanks to the growing influence of innovators in developing countries themselves. Even in India drugs patents have their defenders. Ranbaxy is a local firm that made its name by manufacturing knock-off drugs. But ask Ramesh Adige, a member of its board, about the current trend and he is quick with his reply: “We do not encourage compulsory licensing.” He explains that his firm has 1,100 researchers and invests 7% of its turnover in research and development. It already has process patents, and within two years hopes to have patents for novel drugs (for malaria, possibly). “We are very supportive of intellectual-property rights, as innovations must be given their reward,” he says. The reason Ranbaxy has gone from ignoring patents to defending them is that it now has inventions of its own that it wishes to protect. Even Yongyuth Yuthavong, Thailand's science and technology minister, seems to acknowledge the risk his country is taking. “As a scientist myself, I know the value of intellectual property,” he says. “In future, we should develop our own drugs industry.”   Tiscali Broadband only £9.99 a month for your first 3 months! [URL]   Ip-health mailing list [EMAIL] [URL]</td>\n",
       "      <td>0</td>\n",
       "      <td>1208</td>\n",
       "      <td>7590</td>\n",
       "      <td>3.041922</td>\n",
       "    </tr>\n",
       "  </tbody>\n",
       "</table>\n",
       "</div>"
      ],
      "text/plain": [
       "                                                                                                                                                                                                                                                                                                                                                                                                                                                                                                                                                                                                                                                                                                                                                                                                                                                                                                                                                                                                                                                                                                                                                                                                                                                                                                                                                                                                                                                                                                                                                                                                                                                                                                                                                                                                                                                                                                                                                                                                                                                                                                                                                                                                                                                                                                                                                                                                                                                                                                                                                                                                                                                                                                                                                                                                                                                                                                                                                                                                                                                                                                                                                                                                                                                                                                                                                                                                                                                                                                                                                                                                                                                                                                                                                                                                                                                                                                                                                                                                                                                                                                                                                                                                                                                                                                                                                                                                                                                                                                                                                                                                                                                                                                                                                                                                                                                                                                                                                                                                                                                                                                                                                                                                                                                                                                                                                                                                                                                                                                                                                                                                                                                                                                                                                                                                                                                                                                                                                                                                                                                                                                                                                                                                                                                                                                                                                                                                                                                                                                                                                                                                                                                                                                                                                                                                                                                                                                                                                                                                                                                                                                                                                                                                                                                                                                                                                                                                                                                                                                                                                                                                                                                                                                                                                                                                                                                                                                        text  \\\n",
       "2062  [Ip-health] Economist Article [SEP] Drugs companies' patents are under attack. Will this really help the poor? Jun 7th 2007 | NEW YORK >From The Economist print edition NOBODY could fault Thailand for want of ambition. At the recent Bio conference, the largest annual gathering of the biotechnology industry, it pitched itself hard as an emerging pharmaceutical power, with a dazzling pavilion, visiting luminaries and free drinks for all. Instead, the arguments with Thailand are over means, not ends. At the end of last year the Thai government stunned the drugs industry when it said it would overrule international patents for Efavirenz, an anti-retroviral drug made by Merck, an American firm, and switch to a Thai-made generic copy at half the price. The country had signed the Agreement on Trade-Related Aspects of Intellectual Property Rights (TRIPS), which protects drugs patents. But that deal allows “compulsory licensing” only under special conditions—conditions that some complained Thailand did not fulfil. In the months since then, Thailand has said it would overrule the patents on two more drugs, and it may soon add a further pair to the list. Moreover, other countries have followed its lead. Brazil declared last month that Merck was charging too much for Efavirenz. In recent weeks the health ministers of India, Malaysia and Kenya have also muttered about pursuing compulsory licensing. All this has sparked an almighty row. Many global-health advocates— including Bill Clinton, whose foundation works on HIV—have applauded the trend, arguing that access to cheap generic drugs will greatly help the poor. Last month the World Health Organisation passed a resolution supporting compulsory licensing. America objected vociferously, but other rich countries supported the motion. Drug executives are furious. Jon Pender of GlaxoSmithKline, a British drugs giant, insists that compulsory licensing was meant to be used only “as a last resort”. He argues that although compulsory licensing is legal, TRIPS rules allow it only under limited circumstances, such as national health emergencies, and only after lengthy efforts to negotiate prices with firms. “It is easy to see Big Pharma as a source of evil,” laments Daniel Vasella, chairman of Novartis, a Swiss drugs giant. His firm is involved in a closely watched patent case in India that involves Gleevec, a cancer drug. Without innovation, he insists, future generations will have fewer life-saving drugs—“which is equally unethical as lack of access now.” And as Fred Hassan, the boss of America's Schering-Plough and head of the international pharmaceutical lobby, warns, “without intellectual property there is no innovation.” At first sight, this row reflects an old dilemma that pits today's patients against tomorrow's. Compulsory licensing means that more Thais will get HIV drugs now, but it also means that drugs firms will be less keen to invest in drugs for Thailand in the future. Yet look closer and this is more than a fight between the poor-country sick and rich-world drugs companies. What makes it different is the role of two new actors: muscular middle-income countries and the rising generics industry. This controversy has been sparked not by the poorest countries, which already get most of their drugs at low cost, but by middle-income ones. They have long used the threat of compulsory licensing to win discounts, but by actually imposing such licensing they shift the balance of power. Rudolf Van Puymbroeck, a former senior lawyer at the World Bank, likens compulsory licensing to other sorts of compulsory state purchases: “Firms are upset not because this is illegal, but because they are in a very weak position to negotiate compensation after expropriation.” Follow the money A perverse result of this trend is that middle-income countries are getting cheaper drugs, whereas quieter and perhaps more deserving neighbours are not. Thailand's poor no doubt need treatment, but the military regime is wealthy enough to spend more on health care. Richard Epstein of the University of Chicago law school has observed that there is nothing to stop AIDS organisations or foreign governments from buying these products at a negotiated price and then giving them away free. “Charity can come from anywhere, not just drug companies,” he notes. Even experts devoted to the cause of helping the poor get access to drugs see the trend as worrying. “Brazil is not Rwanda, which cannot afford to pay,” says Tadataka Yamada of the Gates Foundation, a giant charity. Victoria Hale, head of OneWorld Health, an innovative non- profit pharmaceutical firm, reckons that compulsory licensing could prove “the last blow” that pushes the drug industry away from looking for cures for diseases of the poor world, which are already woefully neglected. Whether or not the poor end up suffering in the long run from diminished innovation, a sure winner from the trend towards compulsory licensing is the generic-drugs industry. Under a provision of the TRIPS treaty, countries that invoke compulsory licensing but lack domestic manufacturing are allowed to import generic drugs from another country. This promises a gold rush for generics firms. Canada encourages domestic firms to produce copycat drugs for precisely this reason. But their costs are so high that such exports cannot hope to compete with the cheaper pills produced by India, argues Amir Attaran of the University of Ottawa. Small wonder that executives at Cipla, one of the Indian firms already making generic versions of HIV drugs, warmly applaud the trend and welcome Brazil's support for compulsory licensing, which they say “helps protect the rights of citizens”. Does the future therefore belong to compulsory licensing? If so, there may be trouble ahead for both pillmakers and punters. Dr Yamada fears that compulsory licensing could prove “lethal” for the industry. He suggests that drugs firms and middle-income countries ought instead to use a sliding scale, based on GDP per head, to determine prices. Bruce Lehman, a lawyer who worked on the TRIPS accord in the Clinton administration, thinks it is cynical for middle-income countries “to avoid paying their fair share of drug-discovery costs”. In doing so, he fears, they risk provoking a backlash from Americans who will, in effect, have to pay more as a result. But things may not get that ugly, thanks to the growing influence of innovators in developing countries themselves. Even in India drugs patents have their defenders. Ranbaxy is a local firm that made its name by manufacturing knock-off drugs. But ask Ramesh Adige, a member of its board, about the current trend and he is quick with his reply: “We do not encourage compulsory licensing.” He explains that his firm has 1,100 researchers and invests 7% of its turnover in research and development. It already has process patents, and within two years hopes to have patents for novel drugs (for malaria, possibly). “We are very supportive of intellectual-property rights, as innovations must be given their reward,” he says. The reason Ranbaxy has gone from ignoring patents to defending them is that it now has inventions of its own that it wishes to protect. Even Yongyuth Yuthavong, Thailand's science and technology minister, seems to acknowledge the risk his country is taking. “As a scientist myself, I know the value of intellectual property,” he says. “In future, we should develop our own drugs industry.”   Tiscali Broadband only £9.99 a month for your first 3 months! [URL]   Ip-health mailing list [EMAIL] [URL]   \n",
       "\n",
       "      label  word_count_processed  char_count_processed  char_reduction_%  \n",
       "2062      0                  1208                  7590          3.041922  "
      ]
     },
     "metadata": {},
     "output_type": "display_data"
    }
   ],
   "source": [
    "sample_preprocessed_data(train_raw, n=1)"
   ]
  },
  {
   "cell_type": "code",
   "execution_count": 38,
   "metadata": {},
   "outputs": [
    {
     "name": "stdout",
     "output_type": "stream",
     "text": [
      "Original Data:\n"
     ]
    },
    {
     "data": {
      "text/html": [
       "<div>\n",
       "<style scoped>\n",
       "    .dataframe tbody tr th:only-of-type {\n",
       "        vertical-align: middle;\n",
       "    }\n",
       "\n",
       "    .dataframe tbody tr th {\n",
       "        vertical-align: top;\n",
       "    }\n",
       "\n",
       "    .dataframe thead th {\n",
       "        text-align: right;\n",
       "    }\n",
       "</style>\n",
       "<table border=\"1\" class=\"dataframe\">\n",
       "  <thead>\n",
       "    <tr style=\"text-align: right;\">\n",
       "      <th></th>\n",
       "      <th>subject</th>\n",
       "      <th>body</th>\n",
       "      <th>label</th>\n",
       "      <th>word_count_original</th>\n",
       "      <th>char_count_original</th>\n",
       "    </tr>\n",
       "  </thead>\n",
       "  <tbody>\n",
       "    <tr>\n",
       "      <th>2142</th>\n",
       "      <td>🕖 7 Sekunden und Schluss mit dem Druckgefühl!</td>\n",
       "      <td>Privatsph�re ist uns wichtig: So wichtig es uns ist,  Ihrem Unternehmen zu helfen, so wichtig ist uns auch Ihre Privatsph�re.\\n\\nWir f�hlen uns dem  Recht auf Ihre Privatsph�re verpflichtet und sind bestrebt,  ein sicheres und sicheres Benutzererlebnis zu bieten. \\n\\nIn unseren Datenschutzrichtlinien  wird erl�utert, wie wir die von Ihnen auf unserer Website  bereitgestellten personenbezogenen Daten  erheben, aufbewahren  und verwenden .\\n\\nEs erkl�rt auch, wie wir es  sicher und sicherstellen, dass wir es niemals so missbrauchen, wie es sein sollte privat bleiben.\\n\\nWas  Unsere Privatsph�re sch�tzt: Wenn Sie unsere  Website, stellen Sie uns m�glicherweise zwei Arten von Informationen zur Verf�gung: freiwillig bereitgestellten personenbezogenen Daten  und der Website-Aktivit�t -Informationen, die auf kombinierter  \\n\\nBasis gesammelt wurden, w�hrend Sie und andere navigieren unsere Online-Plattform \\n\\nWenn Sie unsere Website besuchen, legen wir gro�en Wert darauf, Ihre Privatsph�re zu gew�hrleisten  und allen unseren Besuchern sicheres und qualitativ hochwertiges  Online-Erlebnis zu bieten.\\n\\nWir verstehen, dass es Ihnen wichtig ist, wie die Informationen, die Sie uns zur Verf�gung stellen, mit uns teilen, Reihe von Datenschutzrichtlinien  entwickelt, um Sie �ber unsere Richtlinien bez�glich  der Erfassung, Nutzung und Offenlegung von Informationen zu informieren, die wir von  Benutzern unserer  Website erhalten .\\n\\nUnsere Datenschutzrichtlinien  sowie unsere  Allgemeinen Gesch�ftsbedingungen regeln Ihre Nutzung dieser Website. Indem Sie unsere Website nutzen oder unsere Benutzervereinbarung  akzeptieren (per Opt-in, Kontrollk�stchen,Pop-up oder Ausw�hlen  eines  E-Mail-Links, der dies best�tigt),\\n\\nerkl�ren Sie sich damit einverstanden, daran gebunden zu sein  unsere Allgemeinen Gesch�ftsbedingungen und Datenschutzrichtlinien .\\n\\nWenn Sie personalisierte, Zahlungsdaten  oder andere optionale Informationen angegeben haben, k�nnen Sie diese ansehen , �berpr�fen und bearbeiten   �ber die Richtlinien  auf der Website oder indem Sie auf diese E-Mail antworten.\\n\\nUm Ihren  Empfang von Marketing- und  nicht-transaktionalen, indem Sie auf den Opt-out -Link unten klicken unten in jeder promotional-E-Mail.\\n\\nE-Mails im Zusammenhang mit Ihrem Kauf oder der  Lieferung von Bestellungen werden  automatisch bereitgestellt.\\n\\n\\u2013 Kunden k�nnen  transaktionsrelevante E-Mails nicht abbestellen. Wir werden uns bem�hen, alle diesbez�glichen Anforderungen  zu erf�llen. zur  Verwaltung personenbezogener Daten  zeitnah.\\n\\nAllerdings ist es nicht immer wahrscheinlich , Informationen in unseren Datenbanken vollst�ndig zu  entfernen oder zu �ndern  (zum Beispiel, wenn wir  eine rechtliche Verpflichtung), sie f�r bestimmte Zeitr�ume aufzubewahren, zum Beispiel  Beispiel).\\n\\nWenn Sie irgendwelche Abfragen  haben,  antworten einfach auf diese E-Mail oder erkunden  Sie unsere Website, um unsere formelle Richtlinien.</td>\n",
       "      <td>1</td>\n",
       "      <td>380</td>\n",
       "      <td>2970</td>\n",
       "    </tr>\n",
       "  </tbody>\n",
       "</table>\n",
       "</div>"
      ],
      "text/plain": [
       "                                            subject  \\\n",
       "2142  🕖 7 Sekunden und Schluss mit dem Druckgefühl!   \n",
       "\n",
       "                                                                                                                                                                                                                                                                                                                                                                                                                                                                                                                                                                                                                                                                                                                                                                                                                                                                                                                                                                                                                                                                                                                                                                                                                                                                                                                                                                                                                                                                                                                                                                                                                                                                                                                                                                                                                                                                                                                                                                                                                                                                                                                                                                                                                                                                                                                                                                                                                                                                                                                                                                                                                                                                                                                                                                                                                                                                                                                                                                                                                                                                            body  \\\n",
       "2142  Privatsph�re ist uns wichtig: So wichtig es uns ist,  Ihrem Unternehmen zu helfen, so wichtig ist uns auch Ihre Privatsph�re.\\n\\nWir f�hlen uns dem  Recht auf Ihre Privatsph�re verpflichtet und sind bestrebt,  ein sicheres und sicheres Benutzererlebnis zu bieten. \\n\\nIn unseren Datenschutzrichtlinien  wird erl�utert, wie wir die von Ihnen auf unserer Website  bereitgestellten personenbezogenen Daten  erheben, aufbewahren  und verwenden .\\n\\nEs erkl�rt auch, wie wir es  sicher und sicherstellen, dass wir es niemals so missbrauchen, wie es sein sollte privat bleiben.\\n\\nWas  Unsere Privatsph�re sch�tzt: Wenn Sie unsere  Website, stellen Sie uns m�glicherweise zwei Arten von Informationen zur Verf�gung: freiwillig bereitgestellten personenbezogenen Daten  und der Website-Aktivit�t -Informationen, die auf kombinierter  \\n\\nBasis gesammelt wurden, w�hrend Sie und andere navigieren unsere Online-Plattform \\n\\nWenn Sie unsere Website besuchen, legen wir gro�en Wert darauf, Ihre Privatsph�re zu gew�hrleisten  und allen unseren Besuchern sicheres und qualitativ hochwertiges  Online-Erlebnis zu bieten.\\n\\nWir verstehen, dass es Ihnen wichtig ist, wie die Informationen, die Sie uns zur Verf�gung stellen, mit uns teilen, Reihe von Datenschutzrichtlinien  entwickelt, um Sie �ber unsere Richtlinien bez�glich  der Erfassung, Nutzung und Offenlegung von Informationen zu informieren, die wir von  Benutzern unserer  Website erhalten .\\n\\nUnsere Datenschutzrichtlinien  sowie unsere  Allgemeinen Gesch�ftsbedingungen regeln Ihre Nutzung dieser Website. Indem Sie unsere Website nutzen oder unsere Benutzervereinbarung  akzeptieren (per Opt-in, Kontrollk�stchen,Pop-up oder Ausw�hlen  eines  E-Mail-Links, der dies best�tigt),\\n\\nerkl�ren Sie sich damit einverstanden, daran gebunden zu sein  unsere Allgemeinen Gesch�ftsbedingungen und Datenschutzrichtlinien .\\n\\nWenn Sie personalisierte, Zahlungsdaten  oder andere optionale Informationen angegeben haben, k�nnen Sie diese ansehen , �berpr�fen und bearbeiten   �ber die Richtlinien  auf der Website oder indem Sie auf diese E-Mail antworten.\\n\\nUm Ihren  Empfang von Marketing- und  nicht-transaktionalen, indem Sie auf den Opt-out -Link unten klicken unten in jeder promotional-E-Mail.\\n\\nE-Mails im Zusammenhang mit Ihrem Kauf oder der  Lieferung von Bestellungen werden  automatisch bereitgestellt.\\n\\n\\u2013 Kunden k�nnen  transaktionsrelevante E-Mails nicht abbestellen. Wir werden uns bem�hen, alle diesbez�glichen Anforderungen  zu erf�llen. zur  Verwaltung personenbezogener Daten  zeitnah.\\n\\nAllerdings ist es nicht immer wahrscheinlich , Informationen in unseren Datenbanken vollst�ndig zu  entfernen oder zu �ndern  (zum Beispiel, wenn wir  eine rechtliche Verpflichtung), sie f�r bestimmte Zeitr�ume aufzubewahren, zum Beispiel  Beispiel).\\n\\nWenn Sie irgendwelche Abfragen  haben,  antworten einfach auf diese E-Mail oder erkunden  Sie unsere Website, um unsere formelle Richtlinien.   \n",
       "\n",
       "      label  word_count_original  char_count_original  \n",
       "2142      1                  380                 2970  "
      ]
     },
     "metadata": {},
     "output_type": "display_data"
    },
    {
     "name": "stdout",
     "output_type": "stream",
     "text": [
      "Processed Data:\n"
     ]
    },
    {
     "data": {
      "text/html": [
       "<div>\n",
       "<style scoped>\n",
       "    .dataframe tbody tr th:only-of-type {\n",
       "        vertical-align: middle;\n",
       "    }\n",
       "\n",
       "    .dataframe tbody tr th {\n",
       "        vertical-align: top;\n",
       "    }\n",
       "\n",
       "    .dataframe thead th {\n",
       "        text-align: right;\n",
       "    }\n",
       "</style>\n",
       "<table border=\"1\" class=\"dataframe\">\n",
       "  <thead>\n",
       "    <tr style=\"text-align: right;\">\n",
       "      <th></th>\n",
       "      <th>text</th>\n",
       "      <th>label</th>\n",
       "      <th>word_count_processed</th>\n",
       "      <th>char_count_processed</th>\n",
       "      <th>char_reduction_%</th>\n",
       "    </tr>\n",
       "  </thead>\n",
       "  <tbody>\n",
       "    <tr>\n",
       "      <th>2142</th>\n",
       "      <td>🕖 7 Sekunden und Schluss mit dem Druckgefühl! [SEP] Privatsph�re ist uns wichtig: So wichtig es uns ist, Ihrem Unternehmen zu helfen, so wichtig ist uns auch Ihre Privatsph�re. Wir f�hlen uns dem Recht auf Ihre Privatsph�re verpflichtet und sind bestrebt, ein sicheres und sicheres Benutzererlebnis zu bieten. In unseren Datenschutzrichtlinien wird erl�utert, wie wir die von Ihnen auf unserer Website bereitgestellten personenbezogenen Daten erheben, aufbewahren und verwenden . Es erkl�rt auch, wie wir es sicher und sicherstellen, dass wir es niemals so missbrauchen, wie es sein sollte privat bleiben. Was Unsere Privatsph�re sch�tzt: Wenn Sie unsere Website, stellen Sie uns m�glicherweise zwei Arten von Informationen zur Verf�gung: freiwillig bereitgestellten personenbezogenen Daten und der Website-Aktivit�t -Informationen, die auf kombinierter Basis gesammelt wurden, w�hrend Sie und andere navigieren unsere Online-Plattform Wenn Sie unsere Website besuchen, legen wir gro�en Wert darauf, Ihre Privatsph�re zu gew�hrleisten und allen unseren Besuchern sicheres und qualitativ hochwertiges Online-Erlebnis zu bieten. Wir verstehen, dass es Ihnen wichtig ist, wie die Informationen, die Sie uns zur Verf�gung stellen, mit uns teilen, Reihe von Datenschutzrichtlinien entwickelt, um Sie �ber unsere Richtlinien bez�glich der Erfassung, Nutzung und Offenlegung von Informationen zu informieren, die wir von Benutzern unserer Website erhalten . Unsere Datenschutzrichtlinien sowie unsere Allgemeinen Gesch�ftsbedingungen regeln Ihre Nutzung dieser Website. Indem Sie unsere Website nutzen oder unsere Benutzervereinbarung akzeptieren (per Opt-in, Kontrollk�stchen,Pop-up oder Ausw�hlen eines E-Mail-Links, der dies best�tigt), erkl�ren Sie sich damit einverstanden, daran gebunden zu sein unsere Allgemeinen Gesch�ftsbedingungen und Datenschutzrichtlinien . Wenn Sie personalisierte, Zahlungsdaten oder andere optionale Informationen angegeben haben, k�nnen Sie diese ansehen , �berpr�fen und bearbeiten �ber die Richtlinien auf der Website oder indem Sie auf diese E-Mail antworten. Um Ihren Empfang von Marketing- und nicht-transaktionalen, indem Sie auf den Opt-out -Link unten klicken unten in jeder promotional-E-Mail. E-Mails im Zusammenhang mit Ihrem Kauf oder der Lieferung von Bestellungen werden automatisch bereitgestellt. \\u2013 Kunden k�nnen transaktionsrelevante E-Mails nicht abbestellen. Wir werden uns bem�hen, alle diesbez�glichen Anforderungen zu erf�llen. zur Verwaltung personenbezogener Daten zeitnah. Allerdings ist es nicht immer wahrscheinlich , Informationen in unseren Datenbanken vollst�ndig zu entfernen oder zu �ndern (zum Beispiel, wenn wir eine rechtliche Verpflichtung), sie f�r bestimmte Zeitr�ume aufzubewahren, zum Beispiel Beispiel). Wenn Sie irgendwelche Abfragen haben, antworten einfach auf diese E-Mail oder erkunden Sie unsere Website, um unsere formelle Richtlinien.</td>\n",
       "      <td>1</td>\n",
       "      <td>381</td>\n",
       "      <td>2915</td>\n",
       "      <td>1.851852</td>\n",
       "    </tr>\n",
       "  </tbody>\n",
       "</table>\n",
       "</div>"
      ],
      "text/plain": [
       "                                                                                                                                                                                                                                                                                                                                                                                                                                                                                                                                                                                                                                                                                                                                                                                                                                                                                                                                                                                                                                                                                                                                                                                                                                                                                                                                                                                                                                                                                                                                                                                                                                                                                                                                                                                                                                                                                                                                                                                                                                                                                                                                                                                                                                                                                                                                                                                                                                                                                                                                                                                                                                                                                                                                                                                                                                                                                                                                                                                                                                     text  \\\n",
       "2142  🕖 7 Sekunden und Schluss mit dem Druckgefühl! [SEP] Privatsph�re ist uns wichtig: So wichtig es uns ist, Ihrem Unternehmen zu helfen, so wichtig ist uns auch Ihre Privatsph�re. Wir f�hlen uns dem Recht auf Ihre Privatsph�re verpflichtet und sind bestrebt, ein sicheres und sicheres Benutzererlebnis zu bieten. In unseren Datenschutzrichtlinien wird erl�utert, wie wir die von Ihnen auf unserer Website bereitgestellten personenbezogenen Daten erheben, aufbewahren und verwenden . Es erkl�rt auch, wie wir es sicher und sicherstellen, dass wir es niemals so missbrauchen, wie es sein sollte privat bleiben. Was Unsere Privatsph�re sch�tzt: Wenn Sie unsere Website, stellen Sie uns m�glicherweise zwei Arten von Informationen zur Verf�gung: freiwillig bereitgestellten personenbezogenen Daten und der Website-Aktivit�t -Informationen, die auf kombinierter Basis gesammelt wurden, w�hrend Sie und andere navigieren unsere Online-Plattform Wenn Sie unsere Website besuchen, legen wir gro�en Wert darauf, Ihre Privatsph�re zu gew�hrleisten und allen unseren Besuchern sicheres und qualitativ hochwertiges Online-Erlebnis zu bieten. Wir verstehen, dass es Ihnen wichtig ist, wie die Informationen, die Sie uns zur Verf�gung stellen, mit uns teilen, Reihe von Datenschutzrichtlinien entwickelt, um Sie �ber unsere Richtlinien bez�glich der Erfassung, Nutzung und Offenlegung von Informationen zu informieren, die wir von Benutzern unserer Website erhalten . Unsere Datenschutzrichtlinien sowie unsere Allgemeinen Gesch�ftsbedingungen regeln Ihre Nutzung dieser Website. Indem Sie unsere Website nutzen oder unsere Benutzervereinbarung akzeptieren (per Opt-in, Kontrollk�stchen,Pop-up oder Ausw�hlen eines E-Mail-Links, der dies best�tigt), erkl�ren Sie sich damit einverstanden, daran gebunden zu sein unsere Allgemeinen Gesch�ftsbedingungen und Datenschutzrichtlinien . Wenn Sie personalisierte, Zahlungsdaten oder andere optionale Informationen angegeben haben, k�nnen Sie diese ansehen , �berpr�fen und bearbeiten �ber die Richtlinien auf der Website oder indem Sie auf diese E-Mail antworten. Um Ihren Empfang von Marketing- und nicht-transaktionalen, indem Sie auf den Opt-out -Link unten klicken unten in jeder promotional-E-Mail. E-Mails im Zusammenhang mit Ihrem Kauf oder der Lieferung von Bestellungen werden automatisch bereitgestellt. \\u2013 Kunden k�nnen transaktionsrelevante E-Mails nicht abbestellen. Wir werden uns bem�hen, alle diesbez�glichen Anforderungen zu erf�llen. zur Verwaltung personenbezogener Daten zeitnah. Allerdings ist es nicht immer wahrscheinlich , Informationen in unseren Datenbanken vollst�ndig zu entfernen oder zu �ndern (zum Beispiel, wenn wir eine rechtliche Verpflichtung), sie f�r bestimmte Zeitr�ume aufzubewahren, zum Beispiel Beispiel). Wenn Sie irgendwelche Abfragen haben, antworten einfach auf diese E-Mail oder erkunden Sie unsere Website, um unsere formelle Richtlinien.   \n",
       "\n",
       "      label  word_count_processed  char_count_processed  char_reduction_%  \n",
       "2142      1                   381                  2915          1.851852  "
      ]
     },
     "metadata": {},
     "output_type": "display_data"
    }
   ],
   "source": [
    "sample_preprocessed_data(test_raw, n=1)"
   ]
  },
  {
   "cell_type": "markdown",
   "metadata": {},
   "source": [
    "### No subject / body"
   ]
  },
  {
   "cell_type": "code",
   "execution_count": 39,
   "metadata": {},
   "outputs": [
    {
     "name": "stdout",
     "output_type": "stream",
     "text": [
      "Rows with [NO_SUBJECT]: 101\n",
      "Rows with [NO_BODY]: 0\n"
     ]
    }
   ],
   "source": [
    "df = read_dataset(train_raw)\n",
    "df = process_text_columns(df)\n",
    "\n",
    "no_subject_count = (df['subject'] == '[NO_SUBJECT]').sum()\n",
    "no_body_count = (df['body'] == '[NO_BODY]').sum()\n",
    "\n",
    "print(f\"Rows with [NO_SUBJECT]: {no_subject_count}\")\n",
    "print(f\"Rows with [NO_BODY]: {no_body_count}\")"
   ]
  },
  {
   "cell_type": "markdown",
   "metadata": {},
   "source": [
    "### Preprocess All"
   ]
  },
  {
   "cell_type": "code",
   "execution_count": 15,
   "metadata": {},
   "outputs": [
    {
     "name": "stdout",
     "output_type": "stream",
     "text": [
      "Char Count (Original): 36866391\n",
      "Char Count (Processed): 31624838\n",
      "Char Reduction (Overall): 14.22%\n",
      "Char Reduction (Avg. per row): 11.43%\n",
      "Processed saved to c:\\Users\\ilian\\Documents\\Projects\\git_projects\\university\\phishing_detection\\data\\preprocessed\\data_mail\\train_processed_balanced.csv\n"
     ]
    }
   ],
   "source": [
    "prepare_and_save_full_data(train_raw, train_preprocessed)"
   ]
  },
  {
   "cell_type": "code",
   "execution_count": 40,
   "metadata": {},
   "outputs": [
    {
     "name": "stdout",
     "output_type": "stream",
     "text": [
      "Char Count (Original): 15347973\n",
      "Char Count (Processed): 12392612\n",
      "Char Reduction (Overall): 19.26%\n",
      "Char Reduction (Avg. per row): 15.94%\n",
      "Processed saved to c:\\Users\\ilian\\Documents\\Projects\\git_projects\\university\\phishing_detection\\data\\preprocessed\\data_mail\\test_processed_de.csv\n"
     ]
    }
   ],
   "source": [
    "prepare_and_save_full_data(test_raw, test_preprocessed)"
   ]
  }
 ],
 "metadata": {
  "kernelspec": {
   "display_name": "venv",
   "language": "python",
   "name": "python3"
  },
  "language_info": {
   "codemirror_mode": {
    "name": "ipython",
    "version": 3
   },
   "file_extension": ".py",
   "mimetype": "text/x-python",
   "name": "python",
   "nbconvert_exporter": "python",
   "pygments_lexer": "ipython3",
   "version": "3.12.9"
  }
 },
 "nbformat": 4,
 "nbformat_minor": 2
}
