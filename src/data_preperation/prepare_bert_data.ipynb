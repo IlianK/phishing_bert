{
 "cells": [
  {
   "cell_type": "markdown",
   "metadata": {},
   "source": [
    "# Preperation"
   ]
  },
  {
   "cell_type": "markdown",
   "metadata": {},
   "source": [
    "### Imports"
   ]
  },
  {
   "cell_type": "code",
   "execution_count": 1,
   "metadata": {},
   "outputs": [],
   "source": [
    "import pandas as pd\n",
    "import textstat\n",
    "import numpy as np\n",
    "import re\n",
    "import seaborn as sns\n",
    "import matplotlib.pyplot as plt"
   ]
  },
  {
   "cell_type": "markdown",
   "metadata": {},
   "source": [
    "### Paths"
   ]
  },
  {
   "cell_type": "code",
   "execution_count": 2,
   "metadata": {},
   "outputs": [
    {
     "name": "stdout",
     "output_type": "stream",
     "text": [
      "Project Root: c:\\Users\\ilian\\Documents\\Projects\\git_projects\\university\\phishing_detection\n"
     ]
    }
   ],
   "source": [
    "import sys, os\n",
    "sys.path.append(os.path.abspath('../../src'))\n",
    "from helper_functions.path_resolver import DynamicPathResolver\n",
    "\n",
    "dpr = DynamicPathResolver(marker=\"README.md\")\n",
    "paths = dpr.structure"
   ]
  },
  {
   "cell_type": "code",
   "execution_count": 3,
   "metadata": {},
   "outputs": [],
   "source": [
    "train_raw = paths.data.raw.data_mail.train_raw_csv\n",
    "test_raw = paths.data.raw.data_mail.test_raw_csv\n",
    "\n",
    "train_preprocessed = paths.data.preprocessed.data_mail.train_processed_bert_csv\n",
    "test_preprocessed = paths.data.preprocessed.data_mail.test_processed_bert_csv\n",
    "\n",
    "models_folder = dpr.get_folder_path_from_namespace(paths.models.bert)\n",
    "output_dir = dpr.get_folder_path_from_namespace(paths.models.bert.results)\n",
    "\n",
    "os.makedirs(models_folder, exist_ok=True)\n",
    "os.makedirs(output_dir, exist_ok=True)"
   ]
  },
  {
   "cell_type": "markdown",
   "metadata": {},
   "source": [
    "### Functions"
   ]
  },
  {
   "cell_type": "code",
   "execution_count": 4,
   "metadata": {},
   "outputs": [],
   "source": [
    "def read_dataset(file_path):\n",
    "    return pd.read_csv(file_path)\n",
    "\n",
    "def process_text_columns(df):\n",
    "    df['subject'] = df['subject'].fillna('[NO_SUBJECT]').astype(str)\n",
    "    df['body'] = df['body'].fillna('[NO_BODY]').astype(str)\n",
    "    return df\n",
    "\n",
    "\n",
    "def clean_text(text):\n",
    "    text = re.sub(r'\\s+', ' ', text).strip()\n",
    "    substitutions = [\n",
    "        (r'https?://\\S+|www\\.\\S+', '[URL]'),\n",
    "        (r'\\b[A-Za-z0-9._%+-]+@[A-Za-z0-9.-]+\\.[A-Za-z]{2,}\\b', '[EMAIL]'),\n",
    "        (r'-{2,}', ' '),\n",
    "        (r'!{2,}', '!'),\n",
    "        (r'\\?{2,}', '?'),\n",
    "        (r'[_+*]{2,}', ' '),\n",
    "        (r'[=+]{3,}', ' '),\n",
    "        (r'[~]{3,}', ' '),\n",
    "        (r'[#]{3,}', ' '),\n",
    "        (r'[<]{3,}', ' '),\n",
    "        (r'[>]{3,}', ' ')\n",
    "    ]\n",
    "        \n",
    "    for pattern, repl in substitutions:\n",
    "        text = re.sub(pattern, repl, text)\n",
    "    \n",
    "    return text.strip()\n",
    "\n",
    "\n",
    "def combine_text_fields(df):\n",
    "    df['subject'] = df['subject'].apply(clean_text)\n",
    "    df['body'] = df['body'].apply(clean_text)\n",
    "    df['text'] = df['subject'] + \" [SEP] \" + df['body']\n",
    "    return df\n",
    "\n",
    "\n",
    "def prepare_bert_data(df):\n",
    "    df = process_text_columns(df)\n",
    "    df = combine_text_fields(df)\n",
    "    return df[['text', 'label']]"
   ]
  },
  {
   "cell_type": "code",
   "execution_count": 5,
   "metadata": {},
   "outputs": [],
   "source": [
    "def calculate_reduction(original, processed):\n",
    "    original_length = len(original)\n",
    "    processed_length = len(processed)\n",
    "    if original_length == 0:\n",
    "        return 0\n",
    "    reduction_percentage = (original_length - processed_length) / original_length * 100\n",
    "    return reduction_percentage\n",
    "\n",
    "def sample_preprocessed_data(input_file, n=1):\n",
    "    pd.set_option('display.max_colwidth', None)\n",
    "    \n",
    "    df = read_dataset(input_file)\n",
    "    df_sample = df.sample(n).copy()\n",
    "    \n",
    "    # Original\n",
    "    df_sample['full_text_original'] = df_sample['subject'].astype(str) + \" \" + df_sample['body'].astype(str)\n",
    "    df_sample['word_count_original'] = df_sample['full_text_original'].apply(lambda x: len(x.split()))\n",
    "    df_sample['char_count_original'] = df_sample['full_text_original'].apply(lambda x: len(x))\n",
    "    \n",
    "    print(\"Original Data:\")\n",
    "    display(df_sample[['subject', 'body', 'label', 'word_count_original', 'char_count_original']])\n",
    "    \n",
    "    # Processed\n",
    "    df_processed = prepare_bert_data(df_sample).copy()\n",
    "    df_processed['word_count_processed'] = df_processed['text'].apply(lambda x: len(x.split()))\n",
    "    df_processed['char_count_processed'] = df_processed['text'].apply(lambda x: len(x))\n",
    "    \n",
    "    # Reduction in percentage\n",
    "    df_processed['char_reduction_%'] = df_sample.apply(\n",
    "        lambda row: calculate_reduction(row['full_text_original'], prepare_bert_data(pd.DataFrame([row]))['text'].iloc[0]),\n",
    "        axis=1\n",
    "    )\n",
    "    \n",
    "    print(\"Processed Data:\")\n",
    "    display(df_processed[['text', 'label', 'word_count_processed', 'char_count_processed', 'char_reduction_%']])\n"
   ]
  },
  {
   "cell_type": "code",
   "execution_count": 6,
   "metadata": {},
   "outputs": [],
   "source": [
    "def prepare_and_save_full_data(input_file, output_file):\n",
    "    # Load data\n",
    "    df = read_dataset(input_file)\n",
    "    \n",
    "    # Original\n",
    "    df['full_text_original'] = df['subject'].astype(str) + \" \" + df['body'].astype(str)\n",
    "    df['char_count_original'] = df['full_text_original'].apply(lambda x: len(x))\n",
    "    \n",
    "    # Process \n",
    "    df_processed = prepare_bert_data(df).copy()\n",
    "    df_processed['char_count_processed'] = df_processed['text'].apply(lambda x: len(x))\n",
    "    \n",
    "    # Reduction\n",
    "    total_orig_chars = df['char_count_original'].sum()\n",
    "    total_proc_chars = df_processed['char_count_processed'].sum()\n",
    "    overall_reduction = (total_orig_chars - total_proc_chars) / total_orig_chars * 100 if total_orig_chars > 0 else 0\n",
    "    \n",
    "    # Avg. reduction\n",
    "    df['reduction_%'] = df.apply(\n",
    "        lambda row: calculate_reduction(\n",
    "            row['full_text_original'], \n",
    "            prepare_bert_data(pd.DataFrame([row]))['text'].iloc[0]\n",
    "        ),\n",
    "        axis=1\n",
    "    )\n",
    "    avg_reduction = df['reduction_%'].mean()\n",
    "    \n",
    "    print(f\"Char Count (Original): {total_orig_chars}\")\n",
    "    print(f\"Char Count (Processed): {total_proc_chars}\")\n",
    "    print(f\"Char Reduction (Overall): {overall_reduction:.2f}%\")\n",
    "    print(f\"Char Reduction (Avg. per row): {avg_reduction:.2f}%\")\n",
    "    \n",
    "    # Save \n",
    "    df_processed.to_csv(output_file, index=False)\n",
    "    print(f\"Processed saved to {output_file}\")\n"
   ]
  },
  {
   "cell_type": "markdown",
   "metadata": {},
   "source": [
    "### Preprocess Test"
   ]
  },
  {
   "cell_type": "code",
   "execution_count": 7,
   "metadata": {},
   "outputs": [
    {
     "name": "stdout",
     "output_type": "stream",
     "text": [
      "Original Data:\n"
     ]
    },
    {
     "data": {
      "text/html": [
       "<div>\n",
       "<style scoped>\n",
       "    .dataframe tbody tr th:only-of-type {\n",
       "        vertical-align: middle;\n",
       "    }\n",
       "\n",
       "    .dataframe tbody tr th {\n",
       "        vertical-align: top;\n",
       "    }\n",
       "\n",
       "    .dataframe thead th {\n",
       "        text-align: right;\n",
       "    }\n",
       "</style>\n",
       "<table border=\"1\" class=\"dataframe\">\n",
       "  <thead>\n",
       "    <tr style=\"text-align: right;\">\n",
       "      <th></th>\n",
       "      <th>subject</th>\n",
       "      <th>body</th>\n",
       "      <th>label</th>\n",
       "      <th>word_count_original</th>\n",
       "      <th>char_count_original</th>\n",
       "    </tr>\n",
       "  </thead>\n",
       "  <tbody>\n",
       "    <tr>\n",
       "      <th>6750</th>\n",
       "      <td>Rev 332: merge from ronnie in http://samba.org/~tridge/ctdb</td>\n",
       "      <td>------------------------------------------------------------\\nrevno: 332\\nrevision-id: tridge@samba.org-20070523045041-a6v1tls6f3m01bqx\\nparent: tridge@samba.org-20070523043519-e3eiktftt5q3f62e\\nparent: sahlberg@ronnie-20070520232434-xxhlg6zdpx5kkvjp\\ncommitter: Andrew Tridgell \\nbranch nick: tridge\\ntimestamp: Wed 2007-05-23 14:50:41 +1000\\nmessage:\\n  merge from ronnie\\nmodified:\\n  common/ctdb.c                  ctdb.c-20061127094323-t50f58d65iaao5of-2\\n  common/ctdb_client.c           ctdb_client.c-20070411010216-3kd8v37k61steeya-1\\n  common/ctdb_control.c          ctdb_control.c-20070426122724-j6gkpiofhbwdin63-1\\n  common/ctdb_monitor.c          ctdb_monitor.c-20070518100625-8jf4ft1mjzmb22ck-1\\n  include/ctdb.h                 ctdb.h-20061117234101-o3qt14umlg9en8z0-11\\n  include/ctdb_private.h         ctdb_private.h-20061117234101-o3qt14umlg9en8z0-13\\n  tools/ctdb_control.c           ctdb_control.c-20070426122705-9ehj1l5lu2gn9kuj-1\\n    ------------------------------------------------------------\\n    revno: 326.1.3\\n    merged: sahlberg@ronnie-20070520232434-xxhlg6zdpx5kkvjp\\n    parent: sahlberg@ronnie-20070519221839-a9mpdvipiatk5nag\\n    committer: Ronnie Sahlberg \\n    branch nick: ctdb\\n    timestamp: Mon 2007-05-21 09:24:34 +1000\\n    message:\\n      add controls to enable/disable the monitoring of dead nodes\\n    ------------------------------------------------------------\\n    revno: 326.1.2\\n    merged: sahlberg@ronnie-20070519221839-a9mpdvipiatk5nag\\n    parent: sahlberg@ronnie-20070519065910-liyyxru2wl1eah69\\n    parent: tridge@samba.org-20070519111106-hmbognp9baltnxgw\\n    committer: Ronnie Sahlberg \\n    branch nick: ctdb\\n    timestamp: Sun 2007-05-20 08:18:39 +1000\\n    message:\\n      merge from tridge\\n\\nDiff too large for email (238, the limit is 200).\\n\\n</td>\n",
       "      <td>0</td>\n",
       "      <td>108</td>\n",
       "      <td>1829</td>\n",
       "    </tr>\n",
       "  </tbody>\n",
       "</table>\n",
       "</div>"
      ],
      "text/plain": [
       "                                                          subject  \\\n",
       "6750  Rev 332: merge from ronnie in http://samba.org/~tridge/ctdb   \n",
       "\n",
       "                                                                                                                                                                                                                                                                                                                                                                                                                                                                                                                                                                                                                                                                                                                                                                                                                                                                                                                                                                                                                                                                                                                                                                                                                                                                                                                                                                                                                                                                                                                                                                                                                                                                                                                                                                                                                                                                                   body  \\\n",
       "6750  ------------------------------------------------------------\\nrevno: 332\\nrevision-id: tridge@samba.org-20070523045041-a6v1tls6f3m01bqx\\nparent: tridge@samba.org-20070523043519-e3eiktftt5q3f62e\\nparent: sahlberg@ronnie-20070520232434-xxhlg6zdpx5kkvjp\\ncommitter: Andrew Tridgell \\nbranch nick: tridge\\ntimestamp: Wed 2007-05-23 14:50:41 +1000\\nmessage:\\n  merge from ronnie\\nmodified:\\n  common/ctdb.c                  ctdb.c-20061127094323-t50f58d65iaao5of-2\\n  common/ctdb_client.c           ctdb_client.c-20070411010216-3kd8v37k61steeya-1\\n  common/ctdb_control.c          ctdb_control.c-20070426122724-j6gkpiofhbwdin63-1\\n  common/ctdb_monitor.c          ctdb_monitor.c-20070518100625-8jf4ft1mjzmb22ck-1\\n  include/ctdb.h                 ctdb.h-20061117234101-o3qt14umlg9en8z0-11\\n  include/ctdb_private.h         ctdb_private.h-20061117234101-o3qt14umlg9en8z0-13\\n  tools/ctdb_control.c           ctdb_control.c-20070426122705-9ehj1l5lu2gn9kuj-1\\n    ------------------------------------------------------------\\n    revno: 326.1.3\\n    merged: sahlberg@ronnie-20070520232434-xxhlg6zdpx5kkvjp\\n    parent: sahlberg@ronnie-20070519221839-a9mpdvipiatk5nag\\n    committer: Ronnie Sahlberg \\n    branch nick: ctdb\\n    timestamp: Mon 2007-05-21 09:24:34 +1000\\n    message:\\n      add controls to enable/disable the monitoring of dead nodes\\n    ------------------------------------------------------------\\n    revno: 326.1.2\\n    merged: sahlberg@ronnie-20070519221839-a9mpdvipiatk5nag\\n    parent: sahlberg@ronnie-20070519065910-liyyxru2wl1eah69\\n    parent: tridge@samba.org-20070519111106-hmbognp9baltnxgw\\n    committer: Ronnie Sahlberg \\n    branch nick: ctdb\\n    timestamp: Sun 2007-05-20 08:18:39 +1000\\n    message:\\n      merge from tridge\\n\\nDiff too large for email (238, the limit is 200).\\n\\n   \n",
       "\n",
       "      label  word_count_original  char_count_original  \n",
       "6750      0                  108                 1829  "
      ]
     },
     "metadata": {},
     "output_type": "display_data"
    },
    {
     "name": "stdout",
     "output_type": "stream",
     "text": [
      "Processed Data:\n"
     ]
    },
    {
     "data": {
      "text/html": [
       "<div>\n",
       "<style scoped>\n",
       "    .dataframe tbody tr th:only-of-type {\n",
       "        vertical-align: middle;\n",
       "    }\n",
       "\n",
       "    .dataframe tbody tr th {\n",
       "        vertical-align: top;\n",
       "    }\n",
       "\n",
       "    .dataframe thead th {\n",
       "        text-align: right;\n",
       "    }\n",
       "</style>\n",
       "<table border=\"1\" class=\"dataframe\">\n",
       "  <thead>\n",
       "    <tr style=\"text-align: right;\">\n",
       "      <th></th>\n",
       "      <th>text</th>\n",
       "      <th>label</th>\n",
       "      <th>word_count_processed</th>\n",
       "      <th>char_count_processed</th>\n",
       "      <th>char_reduction_%</th>\n",
       "    </tr>\n",
       "  </thead>\n",
       "  <tbody>\n",
       "    <tr>\n",
       "      <th>6750</th>\n",
       "      <td>Rev 332: merge from ronnie in [URL] [SEP] revno: 332 revision-id: [EMAIL]-20070523045041-a6v1tls6f3m01bqx parent: [EMAIL]-20070523043519-e3eiktftt5q3f62e parent: sahlberg@ronnie-20070520232434-xxhlg6zdpx5kkvjp committer: Andrew Tridgell branch nick: tridge timestamp: Wed 2007-05-23 14:50:41 +1000 message: merge from ronnie modified: common/ctdb.c ctdb.c-20061127094323-t50f58d65iaao5of-2 common/ctdb_client.c ctdb_client.c-20070411010216-3kd8v37k61steeya-1 common/ctdb_control.c ctdb_control.c-20070426122724-j6gkpiofhbwdin63-1 common/ctdb_monitor.c ctdb_monitor.c-20070518100625-8jf4ft1mjzmb22ck-1 include/ctdb.h ctdb.h-20061117234101-o3qt14umlg9en8z0-11 include/ctdb_private.h ctdb_private.h-20061117234101-o3qt14umlg9en8z0-13 tools/ctdb_control.c ctdb_control.c-20070426122705-9ehj1l5lu2gn9kuj-1   revno: 326.1.3 merged: sahlberg@ronnie-20070520232434-xxhlg6zdpx5kkvjp parent: sahlberg@ronnie-20070519221839-a9mpdvipiatk5nag committer: Ronnie Sahlberg branch nick: ctdb timestamp: Mon 2007-05-21 09:24:34 +1000 message: add controls to enable/disable the monitoring of dead nodes   revno: 326.1.2 merged: sahlberg@ronnie-20070519221839-a9mpdvipiatk5nag parent: sahlberg@ronnie-20070519065910-liyyxru2wl1eah69 parent: [EMAIL]-20070519111106-hmbognp9baltnxgw committer: Ronnie Sahlberg branch nick: ctdb timestamp: Sun 2007-05-20 08:18:39 +1000 message: merge from tridge Diff too large for email (238, the limit is 200).</td>\n",
       "      <td>0</td>\n",
       "      <td>106</td>\n",
       "      <td>1424</td>\n",
       "      <td>22.361946</td>\n",
       "    </tr>\n",
       "  </tbody>\n",
       "</table>\n",
       "</div>"
      ],
      "text/plain": [
       "                                                                                                                                                                                                                                                                                                                                                                                                                                                                                                                                                                                                                                                                                                                                                                                                                                                                                                                                                                                                                                                                                                                                                                                                                                                                                                                                                                                                                                                                                  text  \\\n",
       "6750  Rev 332: merge from ronnie in [URL] [SEP] revno: 332 revision-id: [EMAIL]-20070523045041-a6v1tls6f3m01bqx parent: [EMAIL]-20070523043519-e3eiktftt5q3f62e parent: sahlberg@ronnie-20070520232434-xxhlg6zdpx5kkvjp committer: Andrew Tridgell branch nick: tridge timestamp: Wed 2007-05-23 14:50:41 +1000 message: merge from ronnie modified: common/ctdb.c ctdb.c-20061127094323-t50f58d65iaao5of-2 common/ctdb_client.c ctdb_client.c-20070411010216-3kd8v37k61steeya-1 common/ctdb_control.c ctdb_control.c-20070426122724-j6gkpiofhbwdin63-1 common/ctdb_monitor.c ctdb_monitor.c-20070518100625-8jf4ft1mjzmb22ck-1 include/ctdb.h ctdb.h-20061117234101-o3qt14umlg9en8z0-11 include/ctdb_private.h ctdb_private.h-20061117234101-o3qt14umlg9en8z0-13 tools/ctdb_control.c ctdb_control.c-20070426122705-9ehj1l5lu2gn9kuj-1   revno: 326.1.3 merged: sahlberg@ronnie-20070520232434-xxhlg6zdpx5kkvjp parent: sahlberg@ronnie-20070519221839-a9mpdvipiatk5nag committer: Ronnie Sahlberg branch nick: ctdb timestamp: Mon 2007-05-21 09:24:34 +1000 message: add controls to enable/disable the monitoring of dead nodes   revno: 326.1.2 merged: sahlberg@ronnie-20070519221839-a9mpdvipiatk5nag parent: sahlberg@ronnie-20070519065910-liyyxru2wl1eah69 parent: [EMAIL]-20070519111106-hmbognp9baltnxgw committer: Ronnie Sahlberg branch nick: ctdb timestamp: Sun 2007-05-20 08:18:39 +1000 message: merge from tridge Diff too large for email (238, the limit is 200).   \n",
       "\n",
       "      label  word_count_processed  char_count_processed  char_reduction_%  \n",
       "6750      0                   106                  1424         22.361946  "
      ]
     },
     "metadata": {},
     "output_type": "display_data"
    }
   ],
   "source": [
    "sample_preprocessed_data(train_raw, n=1)"
   ]
  },
  {
   "cell_type": "code",
   "execution_count": 8,
   "metadata": {},
   "outputs": [
    {
     "name": "stdout",
     "output_type": "stream",
     "text": [
      "Original Data:\n"
     ]
    },
    {
     "data": {
      "text/html": [
       "<div>\n",
       "<style scoped>\n",
       "    .dataframe tbody tr th:only-of-type {\n",
       "        vertical-align: middle;\n",
       "    }\n",
       "\n",
       "    .dataframe tbody tr th {\n",
       "        vertical-align: top;\n",
       "    }\n",
       "\n",
       "    .dataframe thead th {\n",
       "        text-align: right;\n",
       "    }\n",
       "</style>\n",
       "<table border=\"1\" class=\"dataframe\">\n",
       "  <thead>\n",
       "    <tr style=\"text-align: right;\">\n",
       "      <th></th>\n",
       "      <th>subject</th>\n",
       "      <th>body</th>\n",
       "      <th>label</th>\n",
       "      <th>word_count_original</th>\n",
       "      <th>char_count_original</th>\n",
       "    </tr>\n",
       "  </thead>\n",
       "  <tbody>\n",
       "    <tr>\n",
       "      <th>1172</th>\n",
       "      <td>%User_name% rezep-tfrei Pharma</td>\n",
       "      <td>Hallo %User_name%,\\n\\n%User_name%, auch ein richtiger Kerl leidet, wenn man seine Manneskraft einfach so verliert wenn die \\nManneskraft schwindet und Sie nichts dagegen unternehmen \\nkonnten, wie es zu frueheren Zeiten ueblich war. Erfreulicherweise ist die Zeit vorbei, denn Probleme mit dem \"hart\" werden sind mit Arzneien praktisch und diskret zu beheben und sind somit von gestern!\\n\\nAuch vorzeitiger Samenerguss wird durch die blauen Tabletten vorgebeugt. Also endlich wieder ein Liebesspiel das Sie wieder faszinieren wird, ohne \\npermanent daran zu denken, dass der Spass zu schnell vorbei sein kann.\\n\\nAbsolut unglaublich, dass Sie dafuer zum Arzt muessten und dann noch zur ueberteuerten Offline-\\nApotheke obwohl es bei uns, trotz \\ngratis Lieferung nach Deutschland, Schweiz, Austria diskret in den Briefkasten, auch guenstiger ist?\\n\\nHier geht es weiter!\\n\\nhttps://teknoware.ae/apotheke.html\\n\\nGesund bleiben\\nCEO Gerhard Eiser</td>\n",
       "      <td>1</td>\n",
       "      <td>134</td>\n",
       "      <td>958</td>\n",
       "    </tr>\n",
       "  </tbody>\n",
       "</table>\n",
       "</div>"
      ],
      "text/plain": [
       "                             subject  \\\n",
       "1172  %User_name% rezep-tfrei Pharma   \n",
       "\n",
       "                                                                                                                                                                                                                                                                                                                                                                                                                                                                                                                                                                                                                                                                                                                                                                                                                                                                                                                                                                                   body  \\\n",
       "1172  Hallo %User_name%,\\n\\n%User_name%, auch ein richtiger Kerl leidet, wenn man seine Manneskraft einfach so verliert wenn die \\nManneskraft schwindet und Sie nichts dagegen unternehmen \\nkonnten, wie es zu frueheren Zeiten ueblich war. Erfreulicherweise ist die Zeit vorbei, denn Probleme mit dem \"hart\" werden sind mit Arzneien praktisch und diskret zu beheben und sind somit von gestern!\\n\\nAuch vorzeitiger Samenerguss wird durch die blauen Tabletten vorgebeugt. Also endlich wieder ein Liebesspiel das Sie wieder faszinieren wird, ohne \\npermanent daran zu denken, dass der Spass zu schnell vorbei sein kann.\\n\\nAbsolut unglaublich, dass Sie dafuer zum Arzt muessten und dann noch zur ueberteuerten Offline-\\nApotheke obwohl es bei uns, trotz \\ngratis Lieferung nach Deutschland, Schweiz, Austria diskret in den Briefkasten, auch guenstiger ist?\\n\\nHier geht es weiter!\\n\\nhttps://teknoware.ae/apotheke.html\\n\\nGesund bleiben\\nCEO Gerhard Eiser   \n",
       "\n",
       "      label  word_count_original  char_count_original  \n",
       "1172      1                  134                  958  "
      ]
     },
     "metadata": {},
     "output_type": "display_data"
    },
    {
     "name": "stdout",
     "output_type": "stream",
     "text": [
      "Processed Data:\n"
     ]
    },
    {
     "data": {
      "text/html": [
       "<div>\n",
       "<style scoped>\n",
       "    .dataframe tbody tr th:only-of-type {\n",
       "        vertical-align: middle;\n",
       "    }\n",
       "\n",
       "    .dataframe tbody tr th {\n",
       "        vertical-align: top;\n",
       "    }\n",
       "\n",
       "    .dataframe thead th {\n",
       "        text-align: right;\n",
       "    }\n",
       "</style>\n",
       "<table border=\"1\" class=\"dataframe\">\n",
       "  <thead>\n",
       "    <tr style=\"text-align: right;\">\n",
       "      <th></th>\n",
       "      <th>text</th>\n",
       "      <th>label</th>\n",
       "      <th>word_count_processed</th>\n",
       "      <th>char_count_processed</th>\n",
       "      <th>char_reduction_%</th>\n",
       "    </tr>\n",
       "  </thead>\n",
       "  <tbody>\n",
       "    <tr>\n",
       "      <th>1172</th>\n",
       "      <td>%User_name% rezep-tfrei Pharma [SEP] Hallo %User_name%, %User_name%, auch ein richtiger Kerl leidet, wenn man seine Manneskraft einfach so verliert wenn die Manneskraft schwindet und Sie nichts dagegen unternehmen konnten, wie es zu frueheren Zeiten ueblich war. Erfreulicherweise ist die Zeit vorbei, denn Probleme mit dem \"hart\" werden sind mit Arzneien praktisch und diskret zu beheben und sind somit von gestern! Auch vorzeitiger Samenerguss wird durch die blauen Tabletten vorgebeugt. Also endlich wieder ein Liebesspiel das Sie wieder faszinieren wird, ohne permanent daran zu denken, dass der Spass zu schnell vorbei sein kann. Absolut unglaublich, dass Sie dafuer zum Arzt muessten und dann noch zur ueberteuerten Offline- Apotheke obwohl es bei uns, trotz gratis Lieferung nach Deutschland, Schweiz, Austria diskret in den Briefkasten, auch guenstiger ist? Hier geht es weiter! [URL] Gesund bleiben CEO Gerhard Eiser</td>\n",
       "      <td>1</td>\n",
       "      <td>135</td>\n",
       "      <td>925</td>\n",
       "      <td>3.444676</td>\n",
       "    </tr>\n",
       "  </tbody>\n",
       "</table>\n",
       "</div>"
      ],
      "text/plain": [
       "                                                                                                                                                                                                                                                                                                                                                                                                                                                                                                                                                                                                                                                                                                                                                                                                                                                                                                                                                               text  \\\n",
       "1172  %User_name% rezep-tfrei Pharma [SEP] Hallo %User_name%, %User_name%, auch ein richtiger Kerl leidet, wenn man seine Manneskraft einfach so verliert wenn die Manneskraft schwindet und Sie nichts dagegen unternehmen konnten, wie es zu frueheren Zeiten ueblich war. Erfreulicherweise ist die Zeit vorbei, denn Probleme mit dem \"hart\" werden sind mit Arzneien praktisch und diskret zu beheben und sind somit von gestern! Auch vorzeitiger Samenerguss wird durch die blauen Tabletten vorgebeugt. Also endlich wieder ein Liebesspiel das Sie wieder faszinieren wird, ohne permanent daran zu denken, dass der Spass zu schnell vorbei sein kann. Absolut unglaublich, dass Sie dafuer zum Arzt muessten und dann noch zur ueberteuerten Offline- Apotheke obwohl es bei uns, trotz gratis Lieferung nach Deutschland, Schweiz, Austria diskret in den Briefkasten, auch guenstiger ist? Hier geht es weiter! [URL] Gesund bleiben CEO Gerhard Eiser   \n",
       "\n",
       "      label  word_count_processed  char_count_processed  char_reduction_%  \n",
       "1172      1                   135                   925          3.444676  "
      ]
     },
     "metadata": {},
     "output_type": "display_data"
    }
   ],
   "source": [
    "sample_preprocessed_data(test_raw, n=1)"
   ]
  },
  {
   "cell_type": "markdown",
   "metadata": {},
   "source": [
    "### No subject / body"
   ]
  },
  {
   "cell_type": "code",
   "execution_count": 9,
   "metadata": {},
   "outputs": [
    {
     "name": "stdout",
     "output_type": "stream",
     "text": [
      "Rows with [NO_SUBJECT]: 121\n",
      "Rows with [NO_BODY]: 0\n"
     ]
    }
   ],
   "source": [
    "df = read_dataset(train_raw)\n",
    "df = process_text_columns(df)\n",
    "\n",
    "no_subject_count = (df['subject'] == '[NO_SUBJECT]').sum()\n",
    "no_body_count = (df['body'] == '[NO_BODY]').sum()\n",
    "\n",
    "print(f\"Rows with [NO_SUBJECT]: {no_subject_count}\")\n",
    "print(f\"Rows with [NO_BODY]: {no_body_count}\")"
   ]
  },
  {
   "cell_type": "markdown",
   "metadata": {},
   "source": [
    "### Preprocess All"
   ]
  },
  {
   "cell_type": "code",
   "execution_count": 10,
   "metadata": {},
   "outputs": [
    {
     "name": "stdout",
     "output_type": "stream",
     "text": [
      "Char Count (Original): 36345544\n",
      "Char Count (Processed): 30822505\n",
      "Char Reduction (Overall): 15.20%\n",
      "Char Reduction (Avg. per row): 10.82%\n",
      "Processed saved to c:\\Users\\ilian\\Documents\\Projects\\git_projects\\university\\phishing_detection\\data\\preprocessed\\data_mail\\train_processed_bert.csv\n"
     ]
    }
   ],
   "source": [
    "prepare_and_save_full_data(train_raw, train_preprocessed)"
   ]
  },
  {
   "cell_type": "code",
   "execution_count": 11,
   "metadata": {},
   "outputs": [
    {
     "name": "stdout",
     "output_type": "stream",
     "text": [
      "Char Count (Original): 8448350\n",
      "Char Count (Processed): 6190671\n",
      "Char Reduction (Overall): 26.72%\n",
      "Char Reduction (Avg. per row): 20.11%\n",
      "Processed saved to c:\\Users\\ilian\\Documents\\Projects\\git_projects\\university\\phishing_detection\\data\\preprocessed\\data_mail\\test_processed_bert.csv\n"
     ]
    }
   ],
   "source": [
    "prepare_and_save_full_data(test_raw, test_preprocessed)"
   ]
  }
 ],
 "metadata": {
  "kernelspec": {
   "display_name": "venv",
   "language": "python",
   "name": "python3"
  },
  "language_info": {
   "codemirror_mode": {
    "name": "ipython",
    "version": 3
   },
   "file_extension": ".py",
   "mimetype": "text/x-python",
   "name": "python",
   "nbconvert_exporter": "python",
   "pygments_lexer": "ipython3",
   "version": "3.12.8"
  }
 },
 "nbformat": 4,
 "nbformat_minor": 2
}
