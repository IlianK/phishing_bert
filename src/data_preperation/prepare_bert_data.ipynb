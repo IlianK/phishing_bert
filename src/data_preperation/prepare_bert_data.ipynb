{
 "cells": [
  {
   "cell_type": "markdown",
   "metadata": {},
   "source": [
    "### Imports"
   ]
  },
  {
   "cell_type": "code",
   "execution_count": 2,
   "metadata": {},
   "outputs": [],
   "source": [
    "import sys, os\n",
    "sys.path.append(os.path.abspath('../../src'))\n",
    "\n",
    "from helper_functions.path_resolver import DynamicPathResolver\n",
    "from helper_functions.preparation import *"
   ]
  },
  {
   "cell_type": "markdown",
   "metadata": {},
   "source": [
    "### Paths"
   ]
  },
  {
   "cell_type": "code",
   "execution_count": 3,
   "metadata": {},
   "outputs": [
    {
     "name": "stdout",
     "output_type": "stream",
     "text": [
      "Project Root: c:\\Users\\ilian\\Documents\\Projects\\git_projects\\university\\phishing_detection\n"
     ]
    }
   ],
   "source": [
    "dpr = DynamicPathResolver(marker=\"README.md\")\n",
    "\n",
    "train_raw = dpr.path.data.raw.data_mail.train_raw_balanced_csv\n",
    "test_raw  = dpr.path.data.raw.data_mail.test_raw_de_csv\n",
    "\n",
    "train_preprocessed = dpr.path.data.preprocessed.data_mail.train_processed_balanced_csv\n",
    "test_preprocessed  = dpr.path.data.preprocessed.data_mail.test_processed_de_csv\n",
    "\n",
    "models_folder = dpr.path.models.bert\n",
    "output_dir    = dpr.path.models.bert.results"
   ]
  },
  {
   "cell_type": "markdown",
   "metadata": {},
   "source": [
    "### Functions"
   ]
  },
  {
   "cell_type": "code",
   "execution_count": 4,
   "metadata": {},
   "outputs": [],
   "source": [
    "def calculate_reduction(original, processed):\n",
    "    original_length = len(original)\n",
    "    processed_length = len(processed)\n",
    "    if original_length == 0:\n",
    "        return 0\n",
    "    reduction_percentage = (original_length - processed_length) / original_length * 100\n",
    "    return reduction_percentage"
   ]
  },
  {
   "cell_type": "code",
   "execution_count": 5,
   "metadata": {},
   "outputs": [],
   "source": [
    "def sample_preprocessed_data(input_file, n=1):\n",
    "    pd.set_option('display.max_colwidth', None)\n",
    "    \n",
    "    df = read_dataset(input_file)\n",
    "    df_sample = df.sample(n).copy()\n",
    "    \n",
    "    # Original\n",
    "    df_sample['full_text_original'] = df_sample['subject'].astype(str) + \" \" + df_sample['body'].astype(str)\n",
    "    df_sample['word_count_original'] = df_sample['full_text_original'].apply(lambda x: len(x.split()))\n",
    "    df_sample['char_count_original'] = df_sample['full_text_original'].apply(lambda x: len(x))\n",
    "    \n",
    "    print(\"Original Data:\")\n",
    "    display(df_sample[['subject', 'body', 'label', 'word_count_original', 'char_count_original']])\n",
    "    \n",
    "    # Processed\n",
    "    df_processed = prepare_bert_data(df_sample).copy()\n",
    "    df_processed['word_count_processed'] = df_processed['text'].apply(lambda x: len(x.split()))\n",
    "    df_processed['char_count_processed'] = df_processed['text'].apply(lambda x: len(x))\n",
    "    \n",
    "    # Reduction in percentage\n",
    "    df_processed['char_reduction_%'] = df_sample.apply(\n",
    "        lambda row: calculate_reduction(\n",
    "            row['full_text_original'], \n",
    "            prepare_bert_data(pd.DataFrame([row]))['text'].iloc[0]),\n",
    "        axis=1\n",
    "    )\n",
    "    \n",
    "    print(\"Processed Data:\")\n",
    "    display(df_processed[['text', 'label', 'word_count_processed', 'char_count_processed', 'char_reduction_%']])\n"
   ]
  },
  {
   "cell_type": "code",
   "execution_count": 6,
   "metadata": {},
   "outputs": [],
   "source": [
    "def prepare_and_save_full_data(input_file, output_file):\n",
    "    # Load data\n",
    "    df = read_dataset(input_file)\n",
    "    \n",
    "    # Original\n",
    "    df['full_text_original'] = df['subject'].astype(str) + \" \" + df['body'].astype(str)\n",
    "    df['char_count_original'] = df['full_text_original'].apply(lambda x: len(x))\n",
    "    \n",
    "    # Process \n",
    "    df_processed = prepare_bert_data(df).copy()\n",
    "    df_processed['char_count_processed'] = df_processed['text'].apply(lambda x: len(x))\n",
    "    \n",
    "    # Reduction\n",
    "    total_orig_chars = df['char_count_original'].sum()\n",
    "    total_proc_chars = df_processed['char_count_processed'].sum()\n",
    "    overall_reduction = (total_orig_chars - total_proc_chars) / total_orig_chars * 100 if total_orig_chars > 0 else 0\n",
    "    \n",
    "    # Avg. reduction\n",
    "    df['reduction_%'] = df.apply(\n",
    "        lambda row: calculate_reduction(\n",
    "            row['full_text_original'], \n",
    "            prepare_bert_data(pd.DataFrame([row]))['text'].iloc[0]\n",
    "        ),\n",
    "        axis=1\n",
    "    )\n",
    "    avg_reduction = df['reduction_%'].mean()\n",
    "    \n",
    "    print(f\"Char Count (Original): {total_orig_chars}\")\n",
    "    print(f\"Char Count (Processed): {total_proc_chars}\")\n",
    "    print(f\"Char Reduction (Overall): {overall_reduction:.2f}%\")\n",
    "    print(f\"Char Reduction (Avg. per row): {avg_reduction:.2f}%\")\n",
    "    \n",
    "    # Save \n",
    "    df_processed.to_csv(output_file, index=False)\n",
    "    print(f\"Processed saved to {output_file}\")\n"
   ]
  },
  {
   "cell_type": "markdown",
   "metadata": {},
   "source": [
    "### Preprocess Test"
   ]
  },
  {
   "cell_type": "code",
   "execution_count": 7,
   "metadata": {},
   "outputs": [
    {
     "name": "stdout",
     "output_type": "stream",
     "text": [
      "Original Data:\n"
     ]
    },
    {
     "data": {
      "text/html": [
       "<div>\n",
       "<style scoped>\n",
       "    .dataframe tbody tr th:only-of-type {\n",
       "        vertical-align: middle;\n",
       "    }\n",
       "\n",
       "    .dataframe tbody tr th {\n",
       "        vertical-align: top;\n",
       "    }\n",
       "\n",
       "    .dataframe thead th {\n",
       "        text-align: right;\n",
       "    }\n",
       "</style>\n",
       "<table border=\"1\" class=\"dataframe\">\n",
       "  <thead>\n",
       "    <tr style=\"text-align: right;\">\n",
       "      <th></th>\n",
       "      <th>subject</th>\n",
       "      <th>body</th>\n",
       "      <th>label</th>\n",
       "      <th>word_count_original</th>\n",
       "      <th>char_count_original</th>\n",
       "    </tr>\n",
       "  </thead>\n",
       "  <tbody>\n",
       "    <tr>\n",
       "      <th>4687</th>\n",
       "      <td>Re: [Python-3000] Displaying strings containing unicode escapes at\\tthe interactive prompt</td>\n",
       "      <td>2008/4/17, Guido van Rossum :\\n&gt; I changed my mind already. :-) See my post of this morning in another thread.\\n\\nAh, I missed the mail!  Thank you.\\n_______________________________________________\\nPython-3000 mailing list\\nsmsbmo-9552@python.org\\nhttp://mail.python.org/mailman/listinfo/python-3000\\nUnsubscribe: http://mail.python.org/mailman/options/python-3000/python-3000%40tangomu.com\\n\\n\\n</td>\n",
       "      <td>0</td>\n",
       "      <td>47</td>\n",
       "      <td>476</td>\n",
       "    </tr>\n",
       "  </tbody>\n",
       "</table>\n",
       "</div>"
      ],
      "text/plain": [
       "                                                                                         subject  \\\n",
       "4687  Re: [Python-3000] Displaying strings containing unicode escapes at\\tthe interactive prompt   \n",
       "\n",
       "                                                                                                                                                                                                                                                                                                                                                                                                               body  \\\n",
       "4687  2008/4/17, Guido van Rossum :\\n> I changed my mind already. :-) See my post of this morning in another thread.\\n\\nAh, I missed the mail!  Thank you.\\n_______________________________________________\\nPython-3000 mailing list\\nsmsbmo-9552@python.org\\nhttp://mail.python.org/mailman/listinfo/python-3000\\nUnsubscribe: http://mail.python.org/mailman/options/python-3000/python-3000%40tangomu.com\\n\\n\\n   \n",
       "\n",
       "      label  word_count_original  char_count_original  \n",
       "4687      0                   47                  476  "
      ]
     },
     "metadata": {},
     "output_type": "display_data"
    },
    {
     "name": "stdout",
     "output_type": "stream",
     "text": [
      "Processed Data:\n"
     ]
    },
    {
     "data": {
      "text/html": [
       "<div>\n",
       "<style scoped>\n",
       "    .dataframe tbody tr th:only-of-type {\n",
       "        vertical-align: middle;\n",
       "    }\n",
       "\n",
       "    .dataframe tbody tr th {\n",
       "        vertical-align: top;\n",
       "    }\n",
       "\n",
       "    .dataframe thead th {\n",
       "        text-align: right;\n",
       "    }\n",
       "</style>\n",
       "<table border=\"1\" class=\"dataframe\">\n",
       "  <thead>\n",
       "    <tr style=\"text-align: right;\">\n",
       "      <th></th>\n",
       "      <th>text</th>\n",
       "      <th>label</th>\n",
       "      <th>word_count_processed</th>\n",
       "      <th>char_count_processed</th>\n",
       "      <th>char_reduction_%</th>\n",
       "    </tr>\n",
       "  </thead>\n",
       "  <tbody>\n",
       "    <tr>\n",
       "      <th>4687</th>\n",
       "      <td>Re: [Python-3000] Displaying strings containing unicode escapes at the interactive prompt [SEP] 2008/4/17, Guido van Rossum : &gt; I changed my mind already. :-) See my post of this morning in another thread. Ah, I missed the mail! Thank you.   Python-3000 mailing list [EMAIL] [URL] Unsubscribe: [URL]</td>\n",
       "      <td>0</td>\n",
       "      <td>47</td>\n",
       "      <td>299</td>\n",
       "      <td>37.605042</td>\n",
       "    </tr>\n",
       "  </tbody>\n",
       "</table>\n",
       "</div>"
      ],
      "text/plain": [
       "                                                                                                                                                                                                                                                                                                             text  \\\n",
       "4687  Re: [Python-3000] Displaying strings containing unicode escapes at the interactive prompt [SEP] 2008/4/17, Guido van Rossum : > I changed my mind already. :-) See my post of this morning in another thread. Ah, I missed the mail! Thank you.   Python-3000 mailing list [EMAIL] [URL] Unsubscribe: [URL]   \n",
       "\n",
       "      label  word_count_processed  char_count_processed  char_reduction_%  \n",
       "4687      0                    47                   299         37.605042  "
      ]
     },
     "metadata": {},
     "output_type": "display_data"
    }
   ],
   "source": [
    "sample_preprocessed_data(train_raw, n=1)"
   ]
  },
  {
   "cell_type": "code",
   "execution_count": 8,
   "metadata": {},
   "outputs": [
    {
     "name": "stdout",
     "output_type": "stream",
     "text": [
      "Original Data:\n"
     ]
    },
    {
     "data": {
      "text/html": [
       "<div>\n",
       "<style scoped>\n",
       "    .dataframe tbody tr th:only-of-type {\n",
       "        vertical-align: middle;\n",
       "    }\n",
       "\n",
       "    .dataframe tbody tr th {\n",
       "        vertical-align: top;\n",
       "    }\n",
       "\n",
       "    .dataframe thead th {\n",
       "        text-align: right;\n",
       "    }\n",
       "</style>\n",
       "<table border=\"1\" class=\"dataframe\">\n",
       "  <thead>\n",
       "    <tr style=\"text-align: right;\">\n",
       "      <th></th>\n",
       "      <th>subject</th>\n",
       "      <th>body</th>\n",
       "      <th>label</th>\n",
       "      <th>word_count_original</th>\n",
       "      <th>char_count_original</th>\n",
       "    </tr>\n",
       "  </thead>\n",
       "  <tbody>\n",
       "    <tr>\n",
       "      <th>3919</th>\n",
       "      <td>Ein Ingenieur verändert Ihre Stromrechnung</td>\n",
       "      <td>Vor kurzem sprach ich mit  einem alten Freund in einem ruhigen  Caf�. \\n\\nWir unterhielten uns �ber  verschiedene Themen.\\n\\n Er erz�hlte mir, dass er  k�rzlich eine faszinierende  \\n\\nEntdeckung gemacht hatte. epkILt4Twe5iSSvqoRcFBBSSOubya47pX Er hatte ein besonderes Buch gefunden, das seine Perspektive ver�ndert hat. \\npiy7zK\\n\\nW�hrend wir unseren Kaffee  genossen, erz�hlte er weiter �ber seine Erfahrungen . \\nBQ1RLJKQ3EWG54XGLVJGKC Er sagte, dass dieses Buch ihm die Augen ge�ffnet hat , \\n\\nneue M�glichkeiten zu entdecken. \\nEs war unglaublich inspirierend , ihm zuzuh�ren.\\n\\nIch stellte fest, dass solche Entdeckungen wertvoll  sind und dass wir aufgeschlossen  f�r neue Erfahrungen sein sollten. \\n8751 Unser Gespr�ch dauerte lange Zeit  und wir tauschten Ideen aus. \\n\\n3\\n\\nAm Ende des Tages gingen wir auseinander und ich f�hlte mich  inspiriert von der \\n\\n Begegnung. \\nOJ50T Solche Momente sind wertvoll. W65DUVC8OQM Es ist sch�n, sich Zeit zu nehmen, um \\n\\ngemeinsame Erinnerungen aufzufrischen .\\n\\nReflectierend , bin ich dankbar. \\n061317190282018 Es ist wichtig,  Zeit f�r pers�nliche Begegnungen zu haben, \\n\\num den eigenen Horizont zu erweitern.</td>\n",
       "      <td>1</td>\n",
       "      <td>165</td>\n",
       "      <td>1186</td>\n",
       "    </tr>\n",
       "  </tbody>\n",
       "</table>\n",
       "</div>"
      ],
      "text/plain": [
       "                                         subject  \\\n",
       "3919  Ein Ingenieur verändert Ihre Stromrechnung   \n",
       "\n",
       "                                                                                                                                                                                                                                                                                                                                                                                                                                                                                                                                                                                                                                                                                                                                                                                                                                                                                                                                                                                                                                                                                                                                                                                                                       body  \\\n",
       "3919  Vor kurzem sprach ich mit  einem alten Freund in einem ruhigen  Caf�. \\n\\nWir unterhielten uns �ber  verschiedene Themen.\\n\\n Er erz�hlte mir, dass er  k�rzlich eine faszinierende  \\n\\nEntdeckung gemacht hatte. epkILt4Twe5iSSvqoRcFBBSSOubya47pX Er hatte ein besonderes Buch gefunden, das seine Perspektive ver�ndert hat. \\npiy7zK\\n\\nW�hrend wir unseren Kaffee  genossen, erz�hlte er weiter �ber seine Erfahrungen . \\nBQ1RLJKQ3EWG54XGLVJGKC Er sagte, dass dieses Buch ihm die Augen ge�ffnet hat , \\n\\nneue M�glichkeiten zu entdecken. \\nEs war unglaublich inspirierend , ihm zuzuh�ren.\\n\\nIch stellte fest, dass solche Entdeckungen wertvoll  sind und dass wir aufgeschlossen  f�r neue Erfahrungen sein sollten. \\n8751 Unser Gespr�ch dauerte lange Zeit  und wir tauschten Ideen aus. \\n\\n3\\n\\nAm Ende des Tages gingen wir auseinander und ich f�hlte mich  inspiriert von der \\n\\n Begegnung. \\nOJ50T Solche Momente sind wertvoll. W65DUVC8OQM Es ist sch�n, sich Zeit zu nehmen, um \\n\\ngemeinsame Erinnerungen aufzufrischen .\\n\\nReflectierend , bin ich dankbar. \\n061317190282018 Es ist wichtig,  Zeit f�r pers�nliche Begegnungen zu haben, \\n\\num den eigenen Horizont zu erweitern.   \n",
       "\n",
       "      label  word_count_original  char_count_original  \n",
       "3919      1                  165                 1186  "
      ]
     },
     "metadata": {},
     "output_type": "display_data"
    },
    {
     "name": "stdout",
     "output_type": "stream",
     "text": [
      "Processed Data:\n"
     ]
    },
    {
     "data": {
      "text/html": [
       "<div>\n",
       "<style scoped>\n",
       "    .dataframe tbody tr th:only-of-type {\n",
       "        vertical-align: middle;\n",
       "    }\n",
       "\n",
       "    .dataframe tbody tr th {\n",
       "        vertical-align: top;\n",
       "    }\n",
       "\n",
       "    .dataframe thead th {\n",
       "        text-align: right;\n",
       "    }\n",
       "</style>\n",
       "<table border=\"1\" class=\"dataframe\">\n",
       "  <thead>\n",
       "    <tr style=\"text-align: right;\">\n",
       "      <th></th>\n",
       "      <th>text</th>\n",
       "      <th>label</th>\n",
       "      <th>word_count_processed</th>\n",
       "      <th>char_count_processed</th>\n",
       "      <th>char_reduction_%</th>\n",
       "    </tr>\n",
       "  </thead>\n",
       "  <tbody>\n",
       "    <tr>\n",
       "      <th>3919</th>\n",
       "      <td>Ein Ingenieur verändert Ihre Stromrechnung [SEP] Vor kurzem sprach ich mit einem alten Freund in einem ruhigen Caf�. Wir unterhielten uns �ber verschiedene Themen. Er erz�hlte mir, dass er k�rzlich eine faszinierende Entdeckung gemacht hatte. epkILt4Twe5iSSvqoRcFBBSSOubya47pX Er hatte ein besonderes Buch gefunden, das seine Perspektive ver�ndert hat. piy7zK W�hrend wir unseren Kaffee genossen, erz�hlte er weiter �ber seine Erfahrungen . BQ1RLJKQ3EWG54XGLVJGKC Er sagte, dass dieses Buch ihm die Augen ge�ffnet hat , neue M�glichkeiten zu entdecken. Es war unglaublich inspirierend , ihm zuzuh�ren. Ich stellte fest, dass solche Entdeckungen wertvoll sind und dass wir aufgeschlossen f�r neue Erfahrungen sein sollten. 8751 Unser Gespr�ch dauerte lange Zeit und wir tauschten Ideen aus. 3 Am Ende des Tages gingen wir auseinander und ich f�hlte mich inspiriert von der Begegnung. OJ50T Solche Momente sind wertvoll. W65DUVC8OQM Es ist sch�n, sich Zeit zu nehmen, um gemeinsame Erinnerungen aufzufrischen . Reflectierend , bin ich dankbar. 061317190282018 Es ist wichtig, Zeit f�r pers�nliche Begegnungen zu haben, um den eigenen Horizont zu erweitern.</td>\n",
       "      <td>1</td>\n",
       "      <td>166</td>\n",
       "      <td>1154</td>\n",
       "      <td>2.698145</td>\n",
       "    </tr>\n",
       "  </tbody>\n",
       "</table>\n",
       "</div>"
      ],
      "text/plain": [
       "                                                                                                                                                                                                                                                                                                                                                                                                                                                                                                                                                                                                                                                                                                                                                                                                                                                                                                                                                                                                                                                                                                                                                                                                    text  \\\n",
       "3919  Ein Ingenieur verändert Ihre Stromrechnung [SEP] Vor kurzem sprach ich mit einem alten Freund in einem ruhigen Caf�. Wir unterhielten uns �ber verschiedene Themen. Er erz�hlte mir, dass er k�rzlich eine faszinierende Entdeckung gemacht hatte. epkILt4Twe5iSSvqoRcFBBSSOubya47pX Er hatte ein besonderes Buch gefunden, das seine Perspektive ver�ndert hat. piy7zK W�hrend wir unseren Kaffee genossen, erz�hlte er weiter �ber seine Erfahrungen . BQ1RLJKQ3EWG54XGLVJGKC Er sagte, dass dieses Buch ihm die Augen ge�ffnet hat , neue M�glichkeiten zu entdecken. Es war unglaublich inspirierend , ihm zuzuh�ren. Ich stellte fest, dass solche Entdeckungen wertvoll sind und dass wir aufgeschlossen f�r neue Erfahrungen sein sollten. 8751 Unser Gespr�ch dauerte lange Zeit und wir tauschten Ideen aus. 3 Am Ende des Tages gingen wir auseinander und ich f�hlte mich inspiriert von der Begegnung. OJ50T Solche Momente sind wertvoll. W65DUVC8OQM Es ist sch�n, sich Zeit zu nehmen, um gemeinsame Erinnerungen aufzufrischen . Reflectierend , bin ich dankbar. 061317190282018 Es ist wichtig, Zeit f�r pers�nliche Begegnungen zu haben, um den eigenen Horizont zu erweitern.   \n",
       "\n",
       "      label  word_count_processed  char_count_processed  char_reduction_%  \n",
       "3919      1                   166                  1154          2.698145  "
      ]
     },
     "metadata": {},
     "output_type": "display_data"
    }
   ],
   "source": [
    "sample_preprocessed_data(test_raw, n=1)"
   ]
  },
  {
   "cell_type": "markdown",
   "metadata": {},
   "source": [
    "### No subject / body"
   ]
  },
  {
   "cell_type": "code",
   "execution_count": 39,
   "metadata": {},
   "outputs": [
    {
     "name": "stdout",
     "output_type": "stream",
     "text": [
      "Rows with [NO_SUBJECT]: 101\n",
      "Rows with [NO_BODY]: 0\n"
     ]
    }
   ],
   "source": [
    "df = read_dataset(train_raw)\n",
    "df = process_text_columns(df)\n",
    "\n",
    "no_subject_count = (df['subject'] == '[NO_SUBJECT]').sum()\n",
    "no_body_count = (df['body'] == '[NO_BODY]').sum()\n",
    "\n",
    "print(f\"Rows with [NO_SUBJECT]: {no_subject_count}\")\n",
    "print(f\"Rows with [NO_BODY]: {no_body_count}\")"
   ]
  },
  {
   "cell_type": "markdown",
   "metadata": {},
   "source": [
    "### Preprocess All"
   ]
  },
  {
   "cell_type": "code",
   "execution_count": 15,
   "metadata": {},
   "outputs": [
    {
     "name": "stdout",
     "output_type": "stream",
     "text": [
      "Char Count (Original): 36866391\n",
      "Char Count (Processed): 31624838\n",
      "Char Reduction (Overall): 14.22%\n",
      "Char Reduction (Avg. per row): 11.43%\n",
      "Processed saved to c:\\Users\\ilian\\Documents\\Projects\\git_projects\\university\\phishing_detection\\data\\preprocessed\\data_mail\\train_processed_balanced.csv\n"
     ]
    }
   ],
   "source": [
    "prepare_and_save_full_data(train_raw, train_preprocessed)"
   ]
  },
  {
   "cell_type": "code",
   "execution_count": 40,
   "metadata": {},
   "outputs": [
    {
     "name": "stdout",
     "output_type": "stream",
     "text": [
      "Char Count (Original): 15347973\n",
      "Char Count (Processed): 12392612\n",
      "Char Reduction (Overall): 19.26%\n",
      "Char Reduction (Avg. per row): 15.94%\n",
      "Processed saved to c:\\Users\\ilian\\Documents\\Projects\\git_projects\\university\\phishing_detection\\data\\preprocessed\\data_mail\\test_processed_de.csv\n"
     ]
    }
   ],
   "source": [
    "prepare_and_save_full_data(test_raw, test_preprocessed)"
   ]
  }
 ],
 "metadata": {
  "kernelspec": {
   "display_name": "venv",
   "language": "python",
   "name": "python3"
  },
  "language_info": {
   "codemirror_mode": {
    "name": "ipython",
    "version": 3
   },
   "file_extension": ".py",
   "mimetype": "text/x-python",
   "name": "python",
   "nbconvert_exporter": "python",
   "pygments_lexer": "ipython3",
   "version": "3.12.9"
  }
 },
 "nbformat": 4,
 "nbformat_minor": 2
}
