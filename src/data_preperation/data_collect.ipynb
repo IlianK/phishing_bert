{
 "cells": [
  {
   "cell_type": "markdown",
   "metadata": {},
   "source": [
    "# Requirements"
   ]
  },
  {
   "cell_type": "code",
   "execution_count": 7,
   "metadata": {},
   "outputs": [],
   "source": [
    "import imaplib\n",
    "import email\n",
    "from email import policy\n",
    "import os\n",
    "import pandas as pd\n",
    "from email.header import decode_header\n",
    "import re\n",
    "from bs4 import BeautifulSoup\n",
    "import csv"
   ]
  },
  {
   "cell_type": "code",
   "execution_count": 8,
   "metadata": {},
   "outputs": [
    {
     "name": "stdout",
     "output_type": "stream",
     "text": [
      "Project Root: c:\\Users\\ilian\\Documents\\Projects\\git_projects\\university\\phishing_detection\n"
     ]
    }
   ],
   "source": [
    "import sys\n",
    "sys.path.append(os.path.abspath('../../src'))\n",
    "from helper_functions.path_resolver import DynamicPathResolver\n",
    "\n",
    "dpr = DynamicPathResolver(marker=\"README.md\")\n",
    "paths = dpr.structure"
   ]
  },
  {
   "cell_type": "code",
   "execution_count": 10,
   "metadata": {},
   "outputs": [],
   "source": [
    "raw_dir = dpr.get_folder_path_from_namespace(paths.data.raw)"
   ]
  },
  {
   "cell_type": "markdown",
   "metadata": {},
   "source": [
    "# Mails from S., M., A."
   ]
  },
  {
   "cell_type": "markdown",
   "metadata": {},
   "source": [
    "### Mail extraction"
   ]
  },
  {
   "cell_type": "markdown",
   "metadata": {},
   "source": [
    "##### IMAP connect"
   ]
  },
  {
   "cell_type": "code",
   "execution_count": null,
   "metadata": {},
   "outputs": [],
   "source": [
    "IMAP_SERVER = \"imap.web.de\"\n",
    "EMAIL_ACCOUNT = ''\n",
    "EMAIL_PASSWORD = ''"
   ]
  },
  {
   "cell_type": "code",
   "execution_count": 5,
   "metadata": {},
   "outputs": [
    {
     "data": {
      "text/plain": [
       "('OK', [b'LOGIN completed'])"
      ]
     },
     "execution_count": 5,
     "metadata": {},
     "output_type": "execute_result"
    }
   ],
   "source": [
    "mail = imaplib.IMAP4_SSL(IMAP_SERVER)\n",
    "mail.login(EMAIL_ACCOUNT, EMAIL_PASSWORD)"
   ]
  },
  {
   "cell_type": "markdown",
   "metadata": {},
   "source": [
    "##### Functions"
   ]
  },
  {
   "cell_type": "code",
   "execution_count": 6,
   "metadata": {},
   "outputs": [],
   "source": [
    "def extract_email_address(sender):\n",
    "    email_match = re.search(r'<(.+?)>', sender)\n",
    "    return email_match.group(1) if email_match else sender "
   ]
  },
  {
   "cell_type": "code",
   "execution_count": 7,
   "metadata": {},
   "outputs": [],
   "source": [
    "def decode_mime_header(header_value):\n",
    "    if header_value:\n",
    "        decoded_parts = decode_header(header_value)\n",
    "        decoded_text = []\n",
    "\n",
    "        for part, encoding in decoded_parts:\n",
    "            try:\n",
    "                if isinstance(part, bytes):\n",
    "                    decoded_text.append(part.decode(encoding or \"utf-8\", errors=\"replace\"))  \n",
    "                else:\n",
    "                    decoded_text.append(part)\n",
    "            except LookupError:  \n",
    "                decoded_text.append(part.decode(\"utf-8\", errors=\"replace\"))  \n",
    "\n",
    "        return \" \".join(decoded_text)\n",
    "    return \"Unknown\""
   ]
  },
  {
   "cell_type": "code",
   "execution_count": 8,
   "metadata": {},
   "outputs": [],
   "source": [
    "def clean_html_body(html_body):\n",
    "    soup = BeautifulSoup(html_body, \"html.parser\")\n",
    "    text = soup.get_text(separator=\"\\n\", strip=True)\n",
    "    return text"
   ]
  },
  {
   "cell_type": "code",
   "execution_count": null,
   "metadata": {},
   "outputs": [],
   "source": [
    "def fetch_emails(folder, label):\n",
    "    mail.select(folder)\n",
    "    status, messages = mail.search(None, \"ALL\")\n",
    "    email_ids = messages[0].split()\n",
    "    email_data = []\n",
    "\n",
    "    for email_id in email_ids:\n",
    "        status, msg_data = mail.fetch(email_id, \"(RFC822)\")\n",
    "        for response_part in msg_data:\n",
    "            if isinstance(response_part, tuple):\n",
    "                msg = email.message_from_bytes(response_part[1])\n",
    "\n",
    "                print(f\"Raw Subject: {msg['Subject']}\")\n",
    "                print(f\"Decoded Subject: {decode_mime_header(msg['Subject'])}\")\n",
    "\n",
    "                # Decode headers\n",
    "                subject = decode_mime_header(msg[\"Subject\"]) or \"No Subject\"\n",
    "                sender = decode_mime_header(msg[\"From\"])\n",
    "                sender = extract_email_address(sender)\n",
    "                date = msg[\"Date\"]\n",
    "                body = \"\"\n",
    "\n",
    "                # Only plain text\n",
    "                if msg.is_multipart():\n",
    "                    for part in msg.walk():\n",
    "                        content_type = part.get_content_type()\n",
    "                        content_disposition = part.get(\"Content-Disposition\", \"\")\n",
    "\n",
    "                        # Skip attachmenets\n",
    "                        if content_type == \"text/plain\" and \"attachment\" not in content_disposition:\n",
    "                            body = part.get_payload(decode=True).decode(errors=\"ignore\")\n",
    "                            break  \n",
    "                else:\n",
    "                    body = msg.get_payload(decode=True).decode(errors=\"ignore\")\n",
    "\n",
    "                email_data.append([label, date, sender, subject, body])\n",
    "\n",
    "    return email_data\n"
   ]
  },
  {
   "cell_type": "code",
   "execution_count": 10,
   "metadata": {},
   "outputs": [],
   "source": [
    "def save_to_csv(emails_data, path):\n",
    "    file_exists = os.path.isfile(path)\n",
    "    df = pd.DataFrame(emails_data, columns=[\"Label\", \"Date\", \"Sender\", \"Subject\", \"Body\"])\n",
    "\n",
    "    df.to_csv(\n",
    "        path,\n",
    "        mode='a',  \n",
    "        header=not file_exists, \n",
    "        index=False,\n",
    "        encoding=\"utf-8\",  \n",
    "        quoting=csv.QUOTE_MINIMAL, \n",
    "        quotechar='\"', \n",
    "    )\n",
    "\n",
    "    return df"
   ]
  },
  {
   "cell_type": "markdown",
   "metadata": {},
   "source": [
    "##### Save extracted"
   ]
  },
  {
   "cell_type": "code",
   "execution_count": null,
   "metadata": {},
   "outputs": [],
   "source": [
    "raw_data_path = os.path.join(raw_dir, 'mails_raw.csv')"
   ]
  },
  {
   "cell_type": "code",
   "execution_count": 12,
   "metadata": {},
   "outputs": [],
   "source": [
    "get_all = False"
   ]
  },
  {
   "cell_type": "code",
   "execution_count": null,
   "metadata": {},
   "outputs": [],
   "source": [
    "if get_all:\n",
    "    # Unlabeled\n",
    "    unlabeled_emails = fetch_emails(\"INBOX\", -1)\n",
    "    df_unlabeled = save_to_csv(unlabeled_emails, raw_data_path)\n",
    "    print(f\"Saved {len(df_unlabeled)} unlabeled emails to mails_raw.csv\")\n",
    "\n",
    "    # Legit\n",
    "    legit_emails = fetch_emails(\"INBOX\", 0)\n",
    "    df_legit = save_to_csv(legit_emails, raw_data_path)\n",
    "    print(f\"Saved {len(df_legit)} legit emails to mails_raw.csv\")\n",
    "\n",
    "    # Spam\n",
    "    spam_emails = fetch_emails(\"Spam\", 1) \n",
    "    df_spam = save_to_csv(spam_emails, raw_data_path)\n",
    "    print(f\"Saved {len(df_spam)} spam emails to mails_raw.csv\")\n",
    "\n",
    "    mail.logout()"
   ]
  },
  {
   "cell_type": "markdown",
   "metadata": {},
   "source": [
    "##### Load raw"
   ]
  },
  {
   "cell_type": "code",
   "execution_count": 15,
   "metadata": {},
   "outputs": [
    {
     "name": "stdout",
     "output_type": "stream",
     "text": [
      "Total emails: 6382\n",
      "Label\n",
      "-1    6310\n",
      " 1      51\n",
      " 0      21\n",
      "Name: count, dtype: int64\n"
     ]
    }
   ],
   "source": [
    "raw_df = pd.read_csv(raw_data_path)\n",
    "print(f\"Total emails: {len(raw_df)}\")\n",
    "print(raw_df[\"Label\"].value_counts()) "
   ]
  },
  {
   "cell_type": "markdown",
   "metadata": {},
   "source": [
    "### Clean mails"
   ]
  },
  {
   "cell_type": "markdown",
   "metadata": {},
   "source": [
    "##### Remove html"
   ]
  },
  {
   "cell_type": "code",
   "execution_count": 9,
   "metadata": {},
   "outputs": [],
   "source": [
    "def clean_and_save(df, save_path, filter):\n",
    "    def clean_html(text):\n",
    "        return BeautifulSoup(str(text), \"html.parser\").get_text(separator=\"\\n\", strip=True)\n",
    "    \n",
    "    if filter:\n",
    "        df[\"Body\"] = df[\"Body\"].apply(clean_html)\n",
    "        df.to_csv(save_path, index=False, encoding=\"utf-8\")\n",
    "        print(f\"Cleaned dataset saved as {save_path}\")\n"
   ]
  },
  {
   "cell_type": "code",
   "execution_count": null,
   "metadata": {},
   "outputs": [],
   "source": [
    "cleaned_data_path = os.path.join(raw_dir, 'mails_cleaned.csv')"
   ]
  },
  {
   "cell_type": "code",
   "execution_count": null,
   "metadata": {},
   "outputs": [
    {
     "name": "stderr",
     "output_type": "stream",
     "text": [
      "C:\\Users\\ilian\\AppData\\Local\\Temp\\ipykernel_6756\\2188038012.py:3: MarkupResemblesLocatorWarning: The input looks more like a filename than markup. You may want to open this file and pass the filehandle into Beautiful Soup.\n",
      "  return BeautifulSoup(str(text), \"html.parser\").get_text(separator=\"\\n\", strip=True)\n",
      "C:\\Users\\ilian\\AppData\\Local\\Temp\\ipykernel_6756\\2188038012.py:3: MarkupResemblesLocatorWarning: The input looks more like a URL than markup. You may want to use an HTTP client like requests to get the document behind the URL, and feed that document to Beautiful Soup.\n",
      "  return BeautifulSoup(str(text), \"html.parser\").get_text(separator=\"\\n\", strip=True)\n"
     ]
    },
    {
     "name": "stdout",
     "output_type": "stream",
     "text": [
      "Cleaned dataset saved as c:\\Users\\ilian\\Documents\\Projects\\git_projects\\university\\phishing_bert\\data\\raw\\cleaned_mails.csv\n"
     ]
    }
   ],
   "source": [
    "clean_and_save(raw_df, cleaned_data_path, filter=True)"
   ]
  },
  {
   "cell_type": "markdown",
   "metadata": {},
   "source": [
    "##### Load cleaned"
   ]
  },
  {
   "cell_type": "code",
   "execution_count": null,
   "metadata": {},
   "outputs": [
    {
     "name": "stdout",
     "output_type": "stream",
     "text": [
      "Total emails: 6382\n",
      "Label\n",
      "-1    6310\n",
      " 1      51\n",
      " 0      21\n",
      "Name: count, dtype: int64\n"
     ]
    }
   ],
   "source": [
    "cleaned_df = pd.read_csv(cleaned_data_path)\n",
    "print(f\"Total emails: {len(cleaned_df)}\")\n",
    "print(cleaned_df[\"Label\"].value_counts()) "
   ]
  },
  {
   "cell_type": "markdown",
   "metadata": {},
   "source": [
    "### Label"
   ]
  },
  {
   "cell_type": "markdown",
   "metadata": {},
   "source": [
    "##### Load to label"
   ]
  },
  {
   "cell_type": "code",
   "execution_count": null,
   "metadata": {},
   "outputs": [],
   "source": [
    "labeled_data_path = os.path.join(raw_dir, 'mails_labeled.csv')"
   ]
  },
  {
   "cell_type": "code",
   "execution_count": 19,
   "metadata": {},
   "outputs": [
    {
     "name": "stdout",
     "output_type": "stream",
     "text": [
      "Total emails: 6382\n",
      "Label\n",
      "-1    6310\n",
      " 1      51\n",
      " 0      21\n",
      "Name: count, dtype: int64\n"
     ]
    }
   ],
   "source": [
    "to_label_df = pd.read_csv(labeled_data_path)\n",
    "print(f\"Total emails: {len(to_label_df)}\")\n",
    "print(to_label_df[\"Label\"].value_counts()) "
   ]
  },
  {
   "cell_type": "markdown",
   "metadata": {},
   "source": [
    "##### Auto label"
   ]
  },
  {
   "cell_type": "code",
   "execution_count": 22,
   "metadata": {},
   "outputs": [],
   "source": [
    "def auto_label_emails(df, legit_senders, spam_senders, save_path):\n",
    "    # Label legit emails (0)\n",
    "    df.loc[df[\"Sender\"].isin(legit_senders), \"Label\"] = 0\n",
    "    legit_count = df[\"Label\"].value_counts().get(0, 0)\n",
    "    print(f\"✅ Auto-labeled {legit_count} emails as LEGIT.\")\n",
    "\n",
    "    # Label spam emails (1)\n",
    "    df.loc[df[\"Sender\"].isin(spam_senders), \"Label\"] = 1\n",
    "    spam_count = df[\"Label\"].value_counts().get(1, 0)\n",
    "    print(f\"🚨 Auto-labeled {spam_count} emails as SPAM.\")\n",
    "\n",
    "    # Save\n",
    "    df.to_csv(save_path, index=False, encoding=\"utf-8\")\n",
    "    print(f\"🎉 All emails labeled and saved at: {save_path}\")\n",
    "\n",
    "    return df"
   ]
  },
  {
   "cell_type": "code",
   "execution_count": 23,
   "metadata": {},
   "outputs": [],
   "source": [
    "known_legit_senders = [\n",
    "    \"service@paypal.com\",\n",
    "    \"noreply@amazon.de\",\n",
    "    \"support@web.de\",\n",
    "    \"noreply@mail.kleinanzeigen.de\",\n",
    "    \"neu@mailings.web.de\",\n",
    "    \"mail@newsletterdirekt24.eu\",\n",
    "    \"info@newsletter.agrar-fachversand.com\",\n",
    "    \"mail@newsletterdirekt24.eu\",\n",
    "    \"newsletter@yatego.com\",\n",
    "    \"noreply@ebay-kleinanzeigen.de\",\n",
    "    \"info@bestprovita.com\",\n",
    "    \"ebay@reply.ebay.de\",\n",
    "    \"ebay@ebay.com\",\n",
    "    \"info@customer.autobutler.de\",\n",
    "    \"info@agrar-fachversand.com\",\n",
    "]"
   ]
  },
  {
   "cell_type": "code",
   "execution_count": 24,
   "metadata": {},
   "outputs": [],
   "source": [
    "known_spam_senders = [\n",
    "    \"info@nl.you-buy.net\",\n",
    "    \"info@waytohearts.live\",\n",
    "    \"admin@treffegirls.com\",\n",
    "    \"noreply@mylove.ru\",\n",
    "    \"noreply@liebesfun.de\",\n",
    "    \"info@beboo.ru\",\n",
    "    \"best-pair@fotostrana.ru\",\n",
    "    \"user-events@fotostrana.ru\",\n",
    "    \"gifts@fotostrana.ru\",\n",
    "    \"noreply@fotostrana.ru\",\n",
    "    \"status@fotostrana.ru\",\n",
    "    \"noreply@znakomstva.ru\",\n",
    "    \"events@lafh.org\",\n",
    "    \"skg@lafh.org\",\n",
    "    \"info@fastheart-connect.eu\",\n",
    "    \"dave@cadamedia.ie\",\n",
    "    \"k_nadin@i.ua\",\n",
    "    \"redaktion@newsletter.lonelyplanet.de\",\n",
    "    \"Mailer-Daemon@diplom54.ru\",\n",
    "    \"info@magic-mob.com\",\n",
    "    \"info@sendmenews.live\",\n",
    "    \"info@flashingpanties.eu\",\n",
    "    \"z@proton-m03.sarbc.ru\",\n",
    "    \"service@ga.acmaildist.com\",\n",
    "    \"Thomas.ehrlich5481616@rifsgo.xyz\",\n",
    "    \"Stefan-Schubert6786126@meggod.xyz\",\n",
    "    \"Stefan-Schubert1081211@sortgo.xyz\",\n",
    "    \"Dieter.Kirchner4913521@ankito.xyz\",\n",
    "    \"noreply@znakomstva.ru\",\n",
    "    \"admin@gibmirsex.com\",\n",
    "    \"info@hsr-europe.eu\",\n",
    "    \"info@sluttyhour.live\",\n",
    "    \"noreply@fpz.de\",\n",
    "    \"info@promaster-msg.live\",\n",
    "    \"dominik-schroeder@ziegel.de\",\n",
    "    \"marina@kouch-stilist.ru\",\n",
    "    \"noreply@swing-zone.com\",\n",
    "    \"meeting@fotostrana.ru\",\n",
    "    ]"
   ]
  },
  {
   "cell_type": "code",
   "execution_count": null,
   "metadata": {},
   "outputs": [
    {
     "name": "stdout",
     "output_type": "stream",
     "text": [
      "✅ Auto-labeled 1395 emails as LEGIT.\n",
      "🚨 Auto-labeled 774 emails as SPAM.\n",
      "🎉 All emails labeled and saved at: c:\\Users\\ilian\\Documents\\Projects\\git_projects\\university\\phishing_bert\\data\\raw\\labeled_mails.csv\n",
      "Label\n",
      "-1    4213\n",
      " 0    1395\n",
      " 1     774\n",
      "Name: count, dtype: int64\n"
     ]
    }
   ],
   "source": [
    "to_label_df = auto_label_emails(to_label_df, known_legit_senders, known_spam_senders, labeled_data_path)\n",
    "print(to_label_df[\"Label\"].value_counts()) "
   ]
  },
  {
   "cell_type": "markdown",
   "metadata": {},
   "source": [
    "##### Manual label"
   ]
  },
  {
   "cell_type": "code",
   "execution_count": null,
   "metadata": {},
   "outputs": [
    {
     "name": "stdout",
     "output_type": "stream",
     "text": [
      "\n",
      "==================================================\n",
      "📩 Sender: info@b7mailing.com\n",
      "📜 Subject: Anmeldung bestätigen und bis zu 15€ Bonus geschenkt bekommen!\n",
      "✅ All emails from info@b7mailing.com have been labeled as SPAM.\n",
      "\n",
      "==================================================\n",
      "📩 Sender: info@harlotlocatrs.live\n",
      "📜 Subject: Gute Nachricht kruk3 ! Jemand mag dich!\n",
      "✅ All emails from info@harlotlocatrs.live have been labeled as SPAM.\n",
      "\n",
      "==================================================\n",
      "📩 Sender: ebay@reply2.ebay.de\n",
      "📜 Subject: Diesen 5 €-Gutschein bekommt nicht jeder, Sergej Kohl\n",
      "✅ All emails from ebay@reply2.ebay.de have been labeled as LEGIT.\n",
      "\n",
      "==================================================\n",
      "📩 Sender: mjaramillo@lafh.org\n",
      "📜 Subject: 3 ways to jump right in\n",
      "✅ All emails from mjaramillo@lafh.org have been labeled as SPAM.\n",
      "\n",
      "==================================================\n",
      "📩 Sender: kruk3@web.de\n",
      "📜 Subject: ООО «УК «Домсервис» (2) messages from Isla and Leo\n",
      "✅ All emails from kruk3@web.de have been labeled as SPAM.\n",
      "\n",
      "==================================================\n",
      "📩 Sender: webmaster@alghuwaif.com\n",
      "📜 Subject: Al Ghuwaif Feedback\n",
      "✅ All emails from webmaster@alghuwaif.com have been labeled as SPAM.\n",
      "\n",
      "==================================================\n",
      "📩 Sender: webmaster@alghuwaif.com\n",
      "📜 Subject: Al Ghuwaif Feedback\n",
      "✅ All emails from webmaster@alghuwaif.com have been labeled as SPAM.\n",
      "\n",
      "==================================================\n",
      "📩 Sender: anbieter-4vvlwj22ng94h@mail.ebay-kleinanzeigen.de\n",
      "📜 Subject: Re: Nutzer-Anfrage zu deiner Anzeige \"Schreibtischstuhl / Drehstuhl zu verschenken\"\n",
      "✅ All emails from anbieter-4vvlwj22ng94h@mail.ebay-kleinanzeigen.de have been labeled as LEGIT.\n",
      "\n",
      "==================================================\n",
      "📩 Sender: anbieter-4vvlwj22ng94h@mail.ebay-kleinanzeigen.de\n",
      "📜 Subject: Re: Nutzer-Anfrage zu deiner Anzeige \"Schreibtischstuhl / Drehstuhl zu verschenken\"\n",
      "✅ All emails from anbieter-4vvlwj22ng94h@mail.ebay-kleinanzeigen.de have been labeled as LEGIT.\n",
      "✅ Progress saved.\n",
      "\n",
      "==================================================\n",
      "📩 Sender: ebay@reply2.ebay.de\n",
      "📜 Subject: 🎁 10% Bonus fürs Verkaufen, Sergej Kohl\n",
      "✅ All emails from ebay@reply2.ebay.de have been labeled as LEGIT.\n",
      "\n",
      "==================================================\n",
      "📩 Sender: anbieter-wpc59s929c9ds@mail.ebay-kleinanzeigen.de\n",
      "📜 Subject: Re: Nutzer-Anfrage zu deiner Anzeige \"Willst du mehr?\"\n",
      "✅ All emails from anbieter-wpc59s929c9ds@mail.ebay-kleinanzeigen.de have been labeled as LEGIT.\n",
      "\n",
      "==================================================\n",
      "📩 Sender: no-reply@mywebsite-editor.com\n",
      "📜 Subject: Formularnachricht über www.forro-europe.eu\n",
      "✅ All emails from no-reply@mywebsite-editor.com have been labeled as SPAM.\n",
      "\n",
      "==================================================\n",
      "📩 Sender: service@paypal.de\n",
      "📜 Subject: Bestätigung Ihrer PayPal-Zahlung an Deuba GmbH & Co. KG\n",
      "✅ All emails from service@paypal.de have been labeled as LEGIT.\n",
      "\n",
      "==================================================\n",
      "📩 Sender: info@schmuckpalast24.de\n",
      "📜 Subject: Wir sagen Danke!!! Ware abholen und Rabatt sichern\n"
     ]
    }
   ],
   "source": [
    "for index, row in to_label_df[to_label_df[\"Label\"] == -1].iterrows():\n",
    "    print(\"\\n\" + \"=\" * 50)\n",
    "    print(f\"📩 Sender: {row['Sender']}\")\n",
    "    print(f\"📜 Subject: {row['Subject']}\")\n",
    "\n",
    "    label = input(\"Label this email (0 = legit, 1 = spam, -1 = skip): \")\n",
    "\n",
    "    try:\n",
    "        label = int(label)\n",
    "        if label in [0, 1]:\n",
    "            sender = row['Sender']\n",
    "            to_label_df.loc[to_label_df['Sender'] == sender, 'Label'] = label\n",
    "            print(f\"✅ All emails from {sender} have been labeled as {'LEGIT' if label == 0 else 'SPAM'}.\")\n",
    "\n",
    "    except ValueError:\n",
    "        print(\"Skipping email...\")\n",
    "\n",
    "    if index % 10 == 0:\n",
    "        to_label_df.to_csv(labeled_data_path, index=False, encoding=\"utf-8\")\n",
    "        print(\"✅ Progress saved.\")\n"
   ]
  },
  {
   "cell_type": "markdown",
   "metadata": {},
   "source": [
    "# Mails from J. Mail Server"
   ]
  },
  {
   "cell_type": "code",
   "execution_count": 11,
   "metadata": {},
   "outputs": [],
   "source": [
    "from email.parser import BytesParser"
   ]
  },
  {
   "cell_type": "code",
   "execution_count": 13,
   "metadata": {},
   "outputs": [],
   "source": [
    "def extract_text_from_html(html_content):\n",
    "    soup = BeautifulSoup(html_content, 'html.parser')\n",
    "    return soup.get_text(separator='\\n', strip=True)\n",
    "\n",
    "\n",
    "def extract_email_data(email_file):\n",
    "    encodings = ['utf-8', 'windows-1252', 'iso-8859-1']\n",
    "    \n",
    "    for enc in encodings:\n",
    "        try:\n",
    "            with open(email_file, 'rb') as f:\n",
    "                msg = BytesParser(policy=policy.default).parse(f)\n",
    "\n",
    "            sender = msg.get(\"From\", None)\n",
    "            subject = msg.get(\"Subject\", None)\n",
    "            to = msg.get(\"To\", None)\n",
    "            date = msg.get(\"Date\", None)\n",
    "\n",
    "            email_text = \"\"\n",
    "            if msg.is_multipart():\n",
    "                for part in msg.iter_parts():\n",
    "                    if part.get_content_type() == 'text/plain':\n",
    "                        email_text = part.get_payload(decode=True).decode(enc, errors='replace')\n",
    "                        break\n",
    "            else:\n",
    "                if msg.get_content_type() == 'text/plain':\n",
    "                    email_text = msg.get_payload(decode=True).decode(enc, errors='replace')\n",
    "\n",
    "            email_text = email_text.replace('\\r\\n', '\\n').replace('\\r', '\\n')\n",
    "            return sender, subject, to, date, email_text.strip() if email_text.strip() else None\n",
    "\n",
    "        except Exception as e:\n",
    "            print(f\"Failed to read {email_file} with encoding {enc}: {e}\")\n",
    "    \n",
    "    return None, None, None, None, None"
   ]
  },
  {
   "cell_type": "code",
   "execution_count": 14,
   "metadata": {},
   "outputs": [],
   "source": [
    "def process_spam_folder(spam_folder_path, output_csv_path):\n",
    "    email_data = []\n",
    "\n",
    "    if not os.path.exists(spam_folder_path):\n",
    "        print(f\"Folder not found: {spam_folder_path}\")\n",
    "        return\n",
    "\n",
    "    for root, dirs, files in os.walk(spam_folder_path):\n",
    "        for file in files:\n",
    "            email_file_path = os.path.join(root, file)\n",
    "            sender, subject, to, date, body = extract_email_data(email_file_path)\n",
    "\n",
    "            email_data.append([sender if sender else \"\", \n",
    "                               subject if subject else \"\", \n",
    "                               to if to else \"\", \n",
    "                               date if date else \"\", \n",
    "                               body if body else \"\"])\n",
    "\n",
    "    os.makedirs(os.path.dirname(output_csv_path), exist_ok=True)\n",
    "\n",
    "    with open(output_csv_path, mode='w', newline='', encoding='utf-8') as csvfile:\n",
    "        writer = csv.writer(csvfile)\n",
    "        writer.writerow(['Sender', 'Subject', 'Receiver', 'Date', 'Body'])\n",
    "        writer.writerows(email_data)\n",
    "\n",
    "    print(f\"Data saved in: {output_csv_path}\")"
   ]
  },
  {
   "cell_type": "code",
   "execution_count": 15,
   "metadata": {},
   "outputs": [],
   "source": [
    "def label_spam_csv(csv):\n",
    "    df = pd.read_csv(csv)\n",
    "    df['Label'] = 1\n",
    "\n",
    "    df.to_csv(csv, index=False, encoding='utf-8')\n",
    "    print(f\"Labeled CSV saved to: {csv}\")"
   ]
  },
  {
   "cell_type": "markdown",
   "metadata": {},
   "source": [
    "##### Exectute on VM"
   ]
  },
  {
   "cell_type": "code",
   "execution_count": null,
   "metadata": {},
   "outputs": [],
   "source": [
    "spam_folder = r\"C:\\\\Users\\\\ilian\\\\Downloads\\\\spam\"\n",
    "output_csv = paths.data.raw.data_mail.own.jannis_mail_csv"
   ]
  },
  {
   "cell_type": "code",
   "execution_count": 17,
   "metadata": {},
   "outputs": [],
   "source": [
    "os.makedirs(spam_folder, exist_ok=True)\n",
    "with open(os.path.join(spam_folder, 'test_sample.eml'), 'wb') as f:\n",
    "    f.write(b\"From: test@example.com\\nTo: recipient@example.com\\nSubject: Test Email with Umlauts\\nDate: Fri, 16 Feb 2025 12:34:56 +0000\\n\\nHello, this is a test email with special characters like \\xe4, \\xfc, and \\xf6.\\nBest regards,\\nTester\")\n"
   ]
  },
  {
   "cell_type": "code",
   "execution_count": 18,
   "metadata": {},
   "outputs": [
    {
     "name": "stdout",
     "output_type": "stream",
     "text": [
      "Data saved in: c:\\Users\\ilian\\Documents\\Projects\\git_projects\\university\\phishing_detection\\src\\data_preperation\\data\\raw\\jannis_mail.csv\n"
     ]
    }
   ],
   "source": [
    "process_spam_folder(spam_folder, output_csv)"
   ]
  },
  {
   "cell_type": "code",
   "execution_count": 27,
   "metadata": {},
   "outputs": [
    {
     "name": "stdout",
     "output_type": "stream",
     "text": [
      "Labeled CSV saved to: c:\\Users\\ilian\\Documents\\Projects\\git_projects\\university\\phishing_detection\\data\\raw\\data_mail\\own\\jannis_mail.csv\n"
     ]
    }
   ],
   "source": [
    "label_spam_csv(output_csv)"
   ]
  }
 ],
 "metadata": {
  "kernelspec": {
   "display_name": "venv",
   "language": "python",
   "name": "python3"
  },
  "language_info": {
   "codemirror_mode": {
    "name": "ipython",
    "version": 3
   },
   "file_extension": ".py",
   "mimetype": "text/x-python",
   "name": "python",
   "nbconvert_exporter": "python",
   "pygments_lexer": "ipython3",
   "version": "3.12.8"
  }
 },
 "nbformat": 4,
 "nbformat_minor": 2
}
