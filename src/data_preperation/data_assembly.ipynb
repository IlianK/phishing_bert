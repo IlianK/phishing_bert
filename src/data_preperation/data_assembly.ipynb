{
 "cells": [
  {
   "cell_type": "markdown",
   "metadata": {},
   "source": [
    "### Imports"
   ]
  },
  {
   "cell_type": "code",
   "execution_count": 17,
   "metadata": {},
   "outputs": [],
   "source": [
    "import pandas as pd\n",
    "import os\n",
    "import langdetect\n",
    "import numpy as np\n",
    "from deep_translator import GoogleTranslator"
   ]
  },
  {
   "cell_type": "code",
   "execution_count": 18,
   "metadata": {},
   "outputs": [
    {
     "name": "stdout",
     "output_type": "stream",
     "text": [
      "Project Root: c:\\Users\\ilian\\Documents\\Projects\\git_projects\\university\\phishing_detection\n"
     ]
    }
   ],
   "source": [
    "import sys\n",
    "sys.path.append(os.path.abspath('../../src'))\n",
    "from helper_functions.path_resolver import DynamicPathResolver\n",
    "\n",
    "dpr = DynamicPathResolver(marker=\"README.md\")\n",
    "paths = dpr.structure"
   ]
  },
  {
   "cell_type": "markdown",
   "metadata": {},
   "source": [
    "### Functions"
   ]
  },
  {
   "cell_type": "code",
   "execution_count": 19,
   "metadata": {},
   "outputs": [],
   "source": [
    "def read_dataset(file_path):\n",
    "    return pd.read_csv(file_path)\n",
    "\n",
    "def detect_language(text):\n",
    "    try:\n",
    "        return langdetect.detect(str(text))\n",
    "    except:\n",
    "        return \"unknown\"\n",
    "\n",
    "def add_language_column(df):\n",
    "    df['language'] = df['body'].apply(detect_language)\n",
    "    return df\n",
    "\n",
    "def get_filtered_data(df, lang, amount):\n",
    "    df = df[df['language'] == lang]\n",
    "    return df.sample(n=min(amount, len(df)), random_state=42)\n",
    "\n",
    "def translate_to_german(text):\n",
    "    try:\n",
    "        return GoogleTranslator(source='en', target='de').translate(text)\n",
    "    except:\n",
    "        return text\n"
   ]
  },
  {
   "cell_type": "markdown",
   "metadata": {},
   "source": [
    "### Data to use"
   ]
  },
  {
   "cell_type": "code",
   "execution_count": null,
   "metadata": {},
   "outputs": [],
   "source": [
    "test_files = [\n",
    "    paths.data.raw.data_mail.own.jannis_mail_csv,\n",
    "    paths.data.raw.data_mail.own.mails_labeled_csv\n",
    "]\n",
    "train_files = [\n",
    "    paths.data.raw.data_mail.curated.CEAS_08_csv,\n",
    "    paths.data.raw.data_mail.curated.TREC_07_csv,\n",
    "    paths.data.raw.data_mail.curated.Nazario_5_csv\n",
    "]"
   ]
  },
  {
   "cell_type": "code",
   "execution_count": null,
   "metadata": {},
   "outputs": [],
   "source": [
    "train_raw = paths.data.raw.data_mail.train_raw_csv\n",
    "test_raw = paths.data.raw.data_mail.test_raw_csv\n",
    "\n",
    "train_processed = paths.data.preprocessed.data_mail.preprocessed_combined_train_csv\n",
    "test_processed = paths.data.preprocessed.data_mail.preprocessed_combined_test_csv"
   ]
  },
  {
   "cell_type": "markdown",
   "metadata": {},
   "source": [
    "### Assemble Test"
   ]
  },
  {
   "cell_type": "code",
   "execution_count": null,
   "metadata": {},
   "outputs": [],
   "source": [
    "test_dfs = [read_dataset(file) for file in test_files]\n",
    "test_combined = pd.concat(test_dfs, ignore_index=True)\n",
    "test_combined = add_language_column(test_combined)\n",
    "test_combined = test_combined[test_combined['language'].isin([\"de\", \"en\"])]\n",
    "test_combined.to_csv(test_raw, index=False)"
   ]
  },
  {
   "cell_type": "code",
   "execution_count": null,
   "metadata": {},
   "outputs": [
    {
     "name": "stdout",
     "output_type": "stream",
     "text": [
      "Number of rows after removing label -1: 2400\n"
     ]
    }
   ],
   "source": [
    "test_cleaned = test_combined[test_combined['label'] != -1]\n",
    "\n",
    "print(f\"Row count after removing unlabeled -1: {len(test_cleaned)}\")\n",
    "print(\"Distribution (Language and Class):\")\n",
    "print(test_combined.groupby(['language', 'label']).size())\n",
    "\n",
    "test_cleaned.to_csv(train_raw, index=False)"
   ]
  },
  {
   "cell_type": "code",
   "execution_count": 25,
   "metadata": {},
   "outputs": [
    {
     "name": "stdout",
     "output_type": "stream",
     "text": [
      "\n",
      "Minimum group count across all groups: 12\n"
     ]
    }
   ],
   "source": [
    "grouped = test_cleaned.groupby(['language', 'label'])\n",
    "\n",
    "min_count = grouped.size().min()\n",
    "print(\"\\nMin group count:\", min_count)\n",
    "\n",
    "balanced_groups = [\n",
    "    group.sample(n=min_count, random_state=42) \n",
    "    for _, group in grouped\n",
    "]\n",
    "\n",
    "test_data_balanced = pd.concat(balanced_groups, ignore_index=True)"
   ]
  },
  {
   "cell_type": "code",
   "execution_count": 26,
   "metadata": {},
   "outputs": [
    {
     "name": "stdout",
     "output_type": "stream",
     "text": [
      "\n",
      "Balanced Test Distribution (Language and Class):\n",
      "language  label\n",
      "de        0        12\n",
      "          1        12\n",
      "en        0        12\n",
      "          1        12\n",
      "dtype: int64\n"
     ]
    }
   ],
   "source": [
    "print(\"\\nBalanced Test Distribution (Language and Class):\")\n",
    "print(test_data_balanced.groupby(['language', 'label']).size())"
   ]
  },
  {
   "cell_type": "code",
   "execution_count": null,
   "metadata": {},
   "outputs": [],
   "source": [
    "test_data_balanced.to_csv(test_raw, index=False)"
   ]
  },
  {
   "cell_type": "markdown",
   "metadata": {},
   "source": [
    "### Assemble Train"
   ]
  },
  {
   "cell_type": "markdown",
   "metadata": {},
   "source": [
    "##### Combined train datasets "
   ]
  },
  {
   "cell_type": "code",
   "execution_count": null,
   "metadata": {},
   "outputs": [],
   "source": [
    "train_dfs = [read_dataset(file) for file in train_files]\n",
    "train_combined = pd.concat(train_dfs, ignore_index=True)\n",
    "train_combined = add_language_column(train_combined)\n",
    "train_combined = train_combined[train_combined['language'] == \"en\"]  "
   ]
  },
  {
   "cell_type": "markdown",
   "metadata": {},
   "source": [
    "##### Sample english"
   ]
  },
  {
   "cell_type": "code",
   "execution_count": null,
   "metadata": {},
   "outputs": [],
   "source": [
    "en_legit_sample = train_combined[train_combined['label'] == 0].sample(n=5000, random_state=42)\n",
    "en_phish_sample = train_combined[train_combined['label'] == 1].sample(n=5000, random_state=42)\n",
    "train_english = pd.concat([en_legit_sample, en_phish_sample], ignore_index=True)"
   ]
  },
  {
   "cell_type": "markdown",
   "metadata": {},
   "source": [
    "##### Sample german (translated)"
   ]
  },
  {
   "cell_type": "code",
   "execution_count": null,
   "metadata": {},
   "outputs": [],
   "source": [
    "remaining = train_combined.drop(train_english.index)"
   ]
  },
  {
   "cell_type": "code",
   "execution_count": null,
   "metadata": {},
   "outputs": [],
   "source": [
    "rem_legit_sample = remaining[remaining['label'] == 0].sample(n=5000, random_state=42)\n",
    "rem_phish_sample = remaining[remaining['label'] == 1].sample(n=5000, random_state=42)\n",
    "train_to_translate = pd.concat([rem_legit_sample, rem_phish_sample], ignore_index=True)"
   ]
  },
  {
   "cell_type": "code",
   "execution_count": null,
   "metadata": {},
   "outputs": [],
   "source": [
    "train_to_translate['body'] = train_to_translate['body'].apply(translate_to_german)\n",
    "train_to_translate['subject'] = train_to_translate['subject'].apply(translate_to_german)\n",
    "train_to_translate['language'] = \"de\""
   ]
  },
  {
   "cell_type": "markdown",
   "metadata": {},
   "source": [
    "##### Combine"
   ]
  },
  {
   "cell_type": "code",
   "execution_count": null,
   "metadata": {},
   "outputs": [],
   "source": [
    "train_final = pd.concat([train_english, train_to_translate], ignore_index=True)\n",
    "train_final.to_csv(train_raw, index=False)"
   ]
  },
  {
   "cell_type": "markdown",
   "metadata": {},
   "source": [
    "### Balance test"
   ]
  },
  {
   "cell_type": "code",
   "execution_count": 27,
   "metadata": {},
   "outputs": [],
   "source": [
    "train = read_dataset(train_raw)\n",
    "test = read_dataset(test_raw)"
   ]
  },
  {
   "cell_type": "code",
   "execution_count": 30,
   "metadata": {},
   "outputs": [
    {
     "name": "stdout",
     "output_type": "stream",
     "text": [
      "Train data rows: 20000\n",
      "\n",
      "Train: Class Distribution:\n",
      "label\n",
      "1    10954\n",
      "0     9046\n",
      "Name: count, dtype: int64\n",
      "\n",
      " Class distribution (per language) 'de':\n",
      "label\n",
      "1    5489\n",
      "0    4511\n",
      "Name: count, dtype: int64\n",
      "\n",
      " Class distribution (per language) 'en':\n",
      "label\n",
      "1    5465\n",
      "0    4535\n",
      "Name: count, dtype: int64\n"
     ]
    }
   ],
   "source": [
    "print(f\"Train data rows: {len(train)}\")\n",
    "\n",
    "print(\"\\nTrain: Class Distribution:\")\n",
    "print(train['label'].value_counts())\n",
    "\n",
    "for lang in ['de', 'en']:\n",
    "    print(f\"\\n Class distribution (per language) '{lang}':\")\n",
    "    lang_subset = train[train['language'] == lang]\n",
    "    print(lang_subset['label'].value_counts())"
   ]
  },
  {
   "cell_type": "code",
   "execution_count": 31,
   "metadata": {},
   "outputs": [
    {
     "name": "stdout",
     "output_type": "stream",
     "text": [
      "Test data rows: 2400\n",
      "\n",
      "Test: Class Distribution:\n",
      "label\n",
      "1    1200\n",
      "0    1200\n",
      "Name: count, dtype: int64\n",
      "\n",
      " Class distribution (per language) 'de':\n",
      "label\n",
      "0    1188\n",
      "1     667\n",
      "Name: count, dtype: int64\n",
      "\n",
      " Class distribution (per language) 'en':\n",
      "label\n",
      "1    533\n",
      "0     12\n",
      "Name: count, dtype: int64\n"
     ]
    }
   ],
   "source": [
    "print(f\"Test data rows: {len(test)}\")\n",
    "\n",
    "print(\"\\nTest: Class Distribution:\")\n",
    "print(test['label'].value_counts())\n",
    "\n",
    "for lang in ['de', 'en']:\n",
    "    print(f\"\\n Class distribution (per language) '{lang}':\")\n",
    "    lang_subset = test[test['language'] == lang]\n",
    "    print(lang_subset['label'].value_counts())"
   ]
  }
 ],
 "metadata": {
  "kernelspec": {
   "display_name": "venv",
   "language": "python",
   "name": "python3"
  },
  "language_info": {
   "codemirror_mode": {
    "name": "ipython",
    "version": 3
   },
   "file_extension": ".py",
   "mimetype": "text/x-python",
   "name": "python",
   "nbconvert_exporter": "python",
   "pygments_lexer": "ipython3",
   "version": "3.12.8"
  }
 },
 "nbformat": 4,
 "nbformat_minor": 2
}
